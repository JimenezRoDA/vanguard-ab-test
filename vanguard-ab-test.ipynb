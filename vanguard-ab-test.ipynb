{
 "cells": [
  {
   "cell_type": "code",
   "execution_count": 2,
   "id": "eb46bb8b",
   "metadata": {},
   "outputs": [],
   "source": [
    "import pandas as pd\n",
    "import matplotlib.pyplot as plt\n",
    "import seaborn as sns\n",
    "import numpy as np\n",
    "\n",
    "%matplotlib inline"
   ]
  },
  {
   "cell_type": "code",
   "execution_count": 3,
   "id": "1e713fe4",
   "metadata": {},
   "outputs": [],
   "source": [
    "df_final_demo = pd.read_csv(\"df_final_demo.txt\")\n",
    "df_exp_cli = pd.read_csv(\"df_final_experiment_clients.txt\")\n",
    "df_web_1 = pd.read_csv(\"df_final_web_data_pt_1.txt\")\n",
    "df_web_2 = pd.read_csv(\"df_final_web_data_pt_2.txt\")"
   ]
  },
  {
   "cell_type": "code",
   "execution_count": 4,
   "id": "01821e76",
   "metadata": {},
   "outputs": [
    {
     "data": {
      "text/html": [
       "<div>\n",
       "<style scoped>\n",
       "    .dataframe tbody tr th:only-of-type {\n",
       "        vertical-align: middle;\n",
       "    }\n",
       "\n",
       "    .dataframe tbody tr th {\n",
       "        vertical-align: top;\n",
       "    }\n",
       "\n",
       "    .dataframe thead th {\n",
       "        text-align: right;\n",
       "    }\n",
       "</style>\n",
       "<table border=\"1\" class=\"dataframe\">\n",
       "  <thead>\n",
       "    <tr style=\"text-align: right;\">\n",
       "      <th></th>\n",
       "      <th>client_id</th>\n",
       "      <th>clnt_tenure_yr</th>\n",
       "      <th>clnt_tenure_mnth</th>\n",
       "      <th>clnt_age</th>\n",
       "      <th>gendr</th>\n",
       "      <th>num_accts</th>\n",
       "      <th>bal</th>\n",
       "      <th>calls_6_mnth</th>\n",
       "      <th>logons_6_mnth</th>\n",
       "    </tr>\n",
       "  </thead>\n",
       "  <tbody>\n",
       "    <tr>\n",
       "      <th>0</th>\n",
       "      <td>836976</td>\n",
       "      <td>6.0</td>\n",
       "      <td>73.0</td>\n",
       "      <td>60.5</td>\n",
       "      <td>U</td>\n",
       "      <td>2.0</td>\n",
       "      <td>45105.30</td>\n",
       "      <td>6.0</td>\n",
       "      <td>9.0</td>\n",
       "    </tr>\n",
       "    <tr>\n",
       "      <th>1</th>\n",
       "      <td>2304905</td>\n",
       "      <td>7.0</td>\n",
       "      <td>94.0</td>\n",
       "      <td>58.0</td>\n",
       "      <td>U</td>\n",
       "      <td>2.0</td>\n",
       "      <td>110860.30</td>\n",
       "      <td>6.0</td>\n",
       "      <td>9.0</td>\n",
       "    </tr>\n",
       "    <tr>\n",
       "      <th>2</th>\n",
       "      <td>1439522</td>\n",
       "      <td>5.0</td>\n",
       "      <td>64.0</td>\n",
       "      <td>32.0</td>\n",
       "      <td>U</td>\n",
       "      <td>2.0</td>\n",
       "      <td>52467.79</td>\n",
       "      <td>6.0</td>\n",
       "      <td>9.0</td>\n",
       "    </tr>\n",
       "    <tr>\n",
       "      <th>3</th>\n",
       "      <td>1562045</td>\n",
       "      <td>16.0</td>\n",
       "      <td>198.0</td>\n",
       "      <td>49.0</td>\n",
       "      <td>M</td>\n",
       "      <td>2.0</td>\n",
       "      <td>67454.65</td>\n",
       "      <td>3.0</td>\n",
       "      <td>6.0</td>\n",
       "    </tr>\n",
       "    <tr>\n",
       "      <th>4</th>\n",
       "      <td>5126305</td>\n",
       "      <td>12.0</td>\n",
       "      <td>145.0</td>\n",
       "      <td>33.0</td>\n",
       "      <td>F</td>\n",
       "      <td>2.0</td>\n",
       "      <td>103671.75</td>\n",
       "      <td>0.0</td>\n",
       "      <td>3.0</td>\n",
       "    </tr>\n",
       "  </tbody>\n",
       "</table>\n",
       "</div>"
      ],
      "text/plain": [
       "   client_id  clnt_tenure_yr  clnt_tenure_mnth  clnt_age gendr  num_accts  \\\n",
       "0     836976             6.0              73.0      60.5     U        2.0   \n",
       "1    2304905             7.0              94.0      58.0     U        2.0   \n",
       "2    1439522             5.0              64.0      32.0     U        2.0   \n",
       "3    1562045            16.0             198.0      49.0     M        2.0   \n",
       "4    5126305            12.0             145.0      33.0     F        2.0   \n",
       "\n",
       "         bal  calls_6_mnth  logons_6_mnth  \n",
       "0   45105.30           6.0            9.0  \n",
       "1  110860.30           6.0            9.0  \n",
       "2   52467.79           6.0            9.0  \n",
       "3   67454.65           3.0            6.0  \n",
       "4  103671.75           0.0            3.0  "
      ]
     },
     "execution_count": 4,
     "metadata": {},
     "output_type": "execute_result"
    }
   ],
   "source": [
    "df_final_demo.head()"
   ]
  },
  {
   "cell_type": "code",
   "execution_count": 5,
   "id": "422f1fc9",
   "metadata": {},
   "outputs": [
    {
     "data": {
      "text/plain": [
       "(70609, 9)"
      ]
     },
     "execution_count": 5,
     "metadata": {},
     "output_type": "execute_result"
    }
   ],
   "source": [
    "df_final_demo.shape"
   ]
  },
  {
   "cell_type": "code",
   "execution_count": 6,
   "id": "2aac7fc7",
   "metadata": {},
   "outputs": [
    {
     "data": {
      "text/html": [
       "<div>\n",
       "<style scoped>\n",
       "    .dataframe tbody tr th:only-of-type {\n",
       "        vertical-align: middle;\n",
       "    }\n",
       "\n",
       "    .dataframe tbody tr th {\n",
       "        vertical-align: top;\n",
       "    }\n",
       "\n",
       "    .dataframe thead th {\n",
       "        text-align: right;\n",
       "    }\n",
       "</style>\n",
       "<table border=\"1\" class=\"dataframe\">\n",
       "  <thead>\n",
       "    <tr style=\"text-align: right;\">\n",
       "      <th></th>\n",
       "      <th>client_id</th>\n",
       "      <th>Variation</th>\n",
       "    </tr>\n",
       "  </thead>\n",
       "  <tbody>\n",
       "    <tr>\n",
       "      <th>0</th>\n",
       "      <td>9988021</td>\n",
       "      <td>Test</td>\n",
       "    </tr>\n",
       "    <tr>\n",
       "      <th>1</th>\n",
       "      <td>8320017</td>\n",
       "      <td>Test</td>\n",
       "    </tr>\n",
       "    <tr>\n",
       "      <th>2</th>\n",
       "      <td>4033851</td>\n",
       "      <td>Control</td>\n",
       "    </tr>\n",
       "    <tr>\n",
       "      <th>3</th>\n",
       "      <td>1982004</td>\n",
       "      <td>Test</td>\n",
       "    </tr>\n",
       "    <tr>\n",
       "      <th>4</th>\n",
       "      <td>9294070</td>\n",
       "      <td>Control</td>\n",
       "    </tr>\n",
       "  </tbody>\n",
       "</table>\n",
       "</div>"
      ],
      "text/plain": [
       "   client_id Variation\n",
       "0    9988021      Test\n",
       "1    8320017      Test\n",
       "2    4033851   Control\n",
       "3    1982004      Test\n",
       "4    9294070   Control"
      ]
     },
     "execution_count": 6,
     "metadata": {},
     "output_type": "execute_result"
    }
   ],
   "source": [
    "df_exp_cli.head()"
   ]
  },
  {
   "cell_type": "code",
   "execution_count": 7,
   "id": "c478f81f",
   "metadata": {},
   "outputs": [
    {
     "data": {
      "text/plain": [
       "client_id        0\n",
       "Variation    20109\n",
       "dtype: int64"
      ]
     },
     "execution_count": 7,
     "metadata": {},
     "output_type": "execute_result"
    }
   ],
   "source": [
    "df_exp_cli.isna().sum()"
   ]
  },
  {
   "cell_type": "code",
   "execution_count": 8,
   "id": "60dc4f20",
   "metadata": {},
   "outputs": [
    {
     "data": {
      "text/plain": [
       "(70609, 2)"
      ]
     },
     "execution_count": 8,
     "metadata": {},
     "output_type": "execute_result"
    }
   ],
   "source": [
    "df_exp_cli.shape"
   ]
  },
  {
   "cell_type": "code",
   "execution_count": 9,
   "id": "0617b19b",
   "metadata": {},
   "outputs": [
    {
     "data": {
      "text/html": [
       "<div>\n",
       "<style scoped>\n",
       "    .dataframe tbody tr th:only-of-type {\n",
       "        vertical-align: middle;\n",
       "    }\n",
       "\n",
       "    .dataframe tbody tr th {\n",
       "        vertical-align: top;\n",
       "    }\n",
       "\n",
       "    .dataframe thead th {\n",
       "        text-align: right;\n",
       "    }\n",
       "</style>\n",
       "<table border=\"1\" class=\"dataframe\">\n",
       "  <thead>\n",
       "    <tr style=\"text-align: right;\">\n",
       "      <th></th>\n",
       "      <th>client_id</th>\n",
       "      <th>visitor_id</th>\n",
       "      <th>visit_id</th>\n",
       "      <th>process_step</th>\n",
       "      <th>date_time</th>\n",
       "    </tr>\n",
       "  </thead>\n",
       "  <tbody>\n",
       "    <tr>\n",
       "      <th>0</th>\n",
       "      <td>9988021</td>\n",
       "      <td>580560515_7732621733</td>\n",
       "      <td>781255054_21935453173_531117</td>\n",
       "      <td>step_3</td>\n",
       "      <td>2017-04-17 15:27:07</td>\n",
       "    </tr>\n",
       "    <tr>\n",
       "      <th>1</th>\n",
       "      <td>9988021</td>\n",
       "      <td>580560515_7732621733</td>\n",
       "      <td>781255054_21935453173_531117</td>\n",
       "      <td>step_2</td>\n",
       "      <td>2017-04-17 15:26:51</td>\n",
       "    </tr>\n",
       "    <tr>\n",
       "      <th>2</th>\n",
       "      <td>9988021</td>\n",
       "      <td>580560515_7732621733</td>\n",
       "      <td>781255054_21935453173_531117</td>\n",
       "      <td>step_3</td>\n",
       "      <td>2017-04-17 15:19:22</td>\n",
       "    </tr>\n",
       "    <tr>\n",
       "      <th>3</th>\n",
       "      <td>9988021</td>\n",
       "      <td>580560515_7732621733</td>\n",
       "      <td>781255054_21935453173_531117</td>\n",
       "      <td>step_2</td>\n",
       "      <td>2017-04-17 15:19:13</td>\n",
       "    </tr>\n",
       "    <tr>\n",
       "      <th>4</th>\n",
       "      <td>9988021</td>\n",
       "      <td>580560515_7732621733</td>\n",
       "      <td>781255054_21935453173_531117</td>\n",
       "      <td>step_3</td>\n",
       "      <td>2017-04-17 15:18:04</td>\n",
       "    </tr>\n",
       "  </tbody>\n",
       "</table>\n",
       "</div>"
      ],
      "text/plain": [
       "   client_id            visitor_id                      visit_id process_step  \\\n",
       "0    9988021  580560515_7732621733  781255054_21935453173_531117       step_3   \n",
       "1    9988021  580560515_7732621733  781255054_21935453173_531117       step_2   \n",
       "2    9988021  580560515_7732621733  781255054_21935453173_531117       step_3   \n",
       "3    9988021  580560515_7732621733  781255054_21935453173_531117       step_2   \n",
       "4    9988021  580560515_7732621733  781255054_21935453173_531117       step_3   \n",
       "\n",
       "             date_time  \n",
       "0  2017-04-17 15:27:07  \n",
       "1  2017-04-17 15:26:51  \n",
       "2  2017-04-17 15:19:22  \n",
       "3  2017-04-17 15:19:13  \n",
       "4  2017-04-17 15:18:04  "
      ]
     },
     "execution_count": 9,
     "metadata": {},
     "output_type": "execute_result"
    }
   ],
   "source": [
    "df_web_1.head()"
   ]
  },
  {
   "cell_type": "code",
   "execution_count": 10,
   "id": "86645c15",
   "metadata": {},
   "outputs": [
    {
     "data": {
      "text/html": [
       "<div>\n",
       "<style scoped>\n",
       "    .dataframe tbody tr th:only-of-type {\n",
       "        vertical-align: middle;\n",
       "    }\n",
       "\n",
       "    .dataframe tbody tr th {\n",
       "        vertical-align: top;\n",
       "    }\n",
       "\n",
       "    .dataframe thead th {\n",
       "        text-align: right;\n",
       "    }\n",
       "</style>\n",
       "<table border=\"1\" class=\"dataframe\">\n",
       "  <thead>\n",
       "    <tr style=\"text-align: right;\">\n",
       "      <th></th>\n",
       "      <th>client_id</th>\n",
       "      <th>visitor_id</th>\n",
       "      <th>visit_id</th>\n",
       "      <th>process_step</th>\n",
       "      <th>date_time</th>\n",
       "    </tr>\n",
       "  </thead>\n",
       "  <tbody>\n",
       "    <tr>\n",
       "      <th>0</th>\n",
       "      <td>763412</td>\n",
       "      <td>601952081_10457207388</td>\n",
       "      <td>397475557_40440946728_419634</td>\n",
       "      <td>confirm</td>\n",
       "      <td>2017-06-06 08:56:00</td>\n",
       "    </tr>\n",
       "    <tr>\n",
       "      <th>1</th>\n",
       "      <td>6019349</td>\n",
       "      <td>442094451_91531546617</td>\n",
       "      <td>154620534_35331068705_522317</td>\n",
       "      <td>confirm</td>\n",
       "      <td>2017-06-01 11:59:27</td>\n",
       "    </tr>\n",
       "    <tr>\n",
       "      <th>2</th>\n",
       "      <td>6019349</td>\n",
       "      <td>442094451_91531546617</td>\n",
       "      <td>154620534_35331068705_522317</td>\n",
       "      <td>step_3</td>\n",
       "      <td>2017-06-01 11:58:48</td>\n",
       "    </tr>\n",
       "    <tr>\n",
       "      <th>3</th>\n",
       "      <td>6019349</td>\n",
       "      <td>442094451_91531546617</td>\n",
       "      <td>154620534_35331068705_522317</td>\n",
       "      <td>step_2</td>\n",
       "      <td>2017-06-01 11:58:08</td>\n",
       "    </tr>\n",
       "    <tr>\n",
       "      <th>4</th>\n",
       "      <td>6019349</td>\n",
       "      <td>442094451_91531546617</td>\n",
       "      <td>154620534_35331068705_522317</td>\n",
       "      <td>step_1</td>\n",
       "      <td>2017-06-01 11:57:58</td>\n",
       "    </tr>\n",
       "  </tbody>\n",
       "</table>\n",
       "</div>"
      ],
      "text/plain": [
       "   client_id             visitor_id                      visit_id  \\\n",
       "0     763412  601952081_10457207388  397475557_40440946728_419634   \n",
       "1    6019349  442094451_91531546617  154620534_35331068705_522317   \n",
       "2    6019349  442094451_91531546617  154620534_35331068705_522317   \n",
       "3    6019349  442094451_91531546617  154620534_35331068705_522317   \n",
       "4    6019349  442094451_91531546617  154620534_35331068705_522317   \n",
       "\n",
       "  process_step            date_time  \n",
       "0      confirm  2017-06-06 08:56:00  \n",
       "1      confirm  2017-06-01 11:59:27  \n",
       "2       step_3  2017-06-01 11:58:48  \n",
       "3       step_2  2017-06-01 11:58:08  \n",
       "4       step_1  2017-06-01 11:57:58  "
      ]
     },
     "execution_count": 10,
     "metadata": {},
     "output_type": "execute_result"
    }
   ],
   "source": [
    "df_web_2.head()"
   ]
  },
  {
   "cell_type": "code",
   "execution_count": 11,
   "id": "717b195d",
   "metadata": {},
   "outputs": [
    {
     "data": {
      "text/html": [
       "<div>\n",
       "<style scoped>\n",
       "    .dataframe tbody tr th:only-of-type {\n",
       "        vertical-align: middle;\n",
       "    }\n",
       "\n",
       "    .dataframe tbody tr th {\n",
       "        vertical-align: top;\n",
       "    }\n",
       "\n",
       "    .dataframe thead th {\n",
       "        text-align: right;\n",
       "    }\n",
       "</style>\n",
       "<table border=\"1\" class=\"dataframe\">\n",
       "  <thead>\n",
       "    <tr style=\"text-align: right;\">\n",
       "      <th></th>\n",
       "      <th>client_id</th>\n",
       "      <th>visitor_id</th>\n",
       "      <th>visit_id</th>\n",
       "      <th>process_step</th>\n",
       "      <th>date_time</th>\n",
       "    </tr>\n",
       "  </thead>\n",
       "  <tbody>\n",
       "    <tr>\n",
       "      <th>0</th>\n",
       "      <td>9988021</td>\n",
       "      <td>580560515_7732621733</td>\n",
       "      <td>781255054_21935453173_531117</td>\n",
       "      <td>step_3</td>\n",
       "      <td>2017-04-17 15:27:07</td>\n",
       "    </tr>\n",
       "    <tr>\n",
       "      <th>1</th>\n",
       "      <td>9988021</td>\n",
       "      <td>580560515_7732621733</td>\n",
       "      <td>781255054_21935453173_531117</td>\n",
       "      <td>step_2</td>\n",
       "      <td>2017-04-17 15:26:51</td>\n",
       "    </tr>\n",
       "    <tr>\n",
       "      <th>2</th>\n",
       "      <td>9988021</td>\n",
       "      <td>580560515_7732621733</td>\n",
       "      <td>781255054_21935453173_531117</td>\n",
       "      <td>step_3</td>\n",
       "      <td>2017-04-17 15:19:22</td>\n",
       "    </tr>\n",
       "    <tr>\n",
       "      <th>3</th>\n",
       "      <td>9988021</td>\n",
       "      <td>580560515_7732621733</td>\n",
       "      <td>781255054_21935453173_531117</td>\n",
       "      <td>step_2</td>\n",
       "      <td>2017-04-17 15:19:13</td>\n",
       "    </tr>\n",
       "    <tr>\n",
       "      <th>4</th>\n",
       "      <td>9988021</td>\n",
       "      <td>580560515_7732621733</td>\n",
       "      <td>781255054_21935453173_531117</td>\n",
       "      <td>step_3</td>\n",
       "      <td>2017-04-17 15:18:04</td>\n",
       "    </tr>\n",
       "  </tbody>\n",
       "</table>\n",
       "</div>"
      ],
      "text/plain": [
       "   client_id            visitor_id                      visit_id process_step  \\\n",
       "0    9988021  580560515_7732621733  781255054_21935453173_531117       step_3   \n",
       "1    9988021  580560515_7732621733  781255054_21935453173_531117       step_2   \n",
       "2    9988021  580560515_7732621733  781255054_21935453173_531117       step_3   \n",
       "3    9988021  580560515_7732621733  781255054_21935453173_531117       step_2   \n",
       "4    9988021  580560515_7732621733  781255054_21935453173_531117       step_3   \n",
       "\n",
       "             date_time  \n",
       "0  2017-04-17 15:27:07  \n",
       "1  2017-04-17 15:26:51  \n",
       "2  2017-04-17 15:19:22  \n",
       "3  2017-04-17 15:19:13  \n",
       "4  2017-04-17 15:18:04  "
      ]
     },
     "execution_count": 11,
     "metadata": {},
     "output_type": "execute_result"
    }
   ],
   "source": [
    "df_web = pd.concat([df_web_1, df_web_2], axis=0)\n",
    "df_web.head()"
   ]
  },
  {
   "cell_type": "code",
   "execution_count": 12,
   "id": "891a4b1e",
   "metadata": {},
   "outputs": [],
   "source": [
    "df_web['date_time'] = pd.to_datetime(df_web['date_time'], errors='coerce')"
   ]
  },
  {
   "cell_type": "code",
   "execution_count": 13,
   "id": "9c19a41a",
   "metadata": {},
   "outputs": [
    {
     "data": {
      "text/html": [
       "<div>\n",
       "<style scoped>\n",
       "    .dataframe tbody tr th:only-of-type {\n",
       "        vertical-align: middle;\n",
       "    }\n",
       "\n",
       "    .dataframe tbody tr th {\n",
       "        vertical-align: top;\n",
       "    }\n",
       "\n",
       "    .dataframe thead th {\n",
       "        text-align: right;\n",
       "    }\n",
       "</style>\n",
       "<table border=\"1\" class=\"dataframe\">\n",
       "  <thead>\n",
       "    <tr style=\"text-align: right;\">\n",
       "      <th></th>\n",
       "      <th>client_id</th>\n",
       "      <th>clnt_tenure_yr</th>\n",
       "      <th>clnt_tenure_mnth</th>\n",
       "      <th>clnt_age</th>\n",
       "      <th>gendr</th>\n",
       "      <th>num_accts</th>\n",
       "      <th>bal</th>\n",
       "      <th>calls_6_mnth</th>\n",
       "      <th>logons_6_mnth</th>\n",
       "      <th>Variation</th>\n",
       "    </tr>\n",
       "  </thead>\n",
       "  <tbody>\n",
       "    <tr>\n",
       "      <th>0</th>\n",
       "      <td>169</td>\n",
       "      <td>21.0</td>\n",
       "      <td>262.0</td>\n",
       "      <td>47.5</td>\n",
       "      <td>M</td>\n",
       "      <td>2.0</td>\n",
       "      <td>501570.72</td>\n",
       "      <td>4.0</td>\n",
       "      <td>4.0</td>\n",
       "      <td>NaN</td>\n",
       "    </tr>\n",
       "    <tr>\n",
       "      <th>1</th>\n",
       "      <td>555</td>\n",
       "      <td>3.0</td>\n",
       "      <td>46.0</td>\n",
       "      <td>29.5</td>\n",
       "      <td>U</td>\n",
       "      <td>2.0</td>\n",
       "      <td>25454.66</td>\n",
       "      <td>2.0</td>\n",
       "      <td>6.0</td>\n",
       "      <td>Test</td>\n",
       "    </tr>\n",
       "    <tr>\n",
       "      <th>2</th>\n",
       "      <td>647</td>\n",
       "      <td>12.0</td>\n",
       "      <td>151.0</td>\n",
       "      <td>57.5</td>\n",
       "      <td>M</td>\n",
       "      <td>2.0</td>\n",
       "      <td>30525.80</td>\n",
       "      <td>0.0</td>\n",
       "      <td>4.0</td>\n",
       "      <td>Test</td>\n",
       "    </tr>\n",
       "    <tr>\n",
       "      <th>3</th>\n",
       "      <td>722</td>\n",
       "      <td>11.0</td>\n",
       "      <td>143.0</td>\n",
       "      <td>59.5</td>\n",
       "      <td>F</td>\n",
       "      <td>2.0</td>\n",
       "      <td>22466.17</td>\n",
       "      <td>1.0</td>\n",
       "      <td>1.0</td>\n",
       "      <td>NaN</td>\n",
       "    </tr>\n",
       "    <tr>\n",
       "      <th>4</th>\n",
       "      <td>934</td>\n",
       "      <td>9.0</td>\n",
       "      <td>109.0</td>\n",
       "      <td>51.0</td>\n",
       "      <td>F</td>\n",
       "      <td>2.0</td>\n",
       "      <td>32522.88</td>\n",
       "      <td>0.0</td>\n",
       "      <td>3.0</td>\n",
       "      <td>Test</td>\n",
       "    </tr>\n",
       "  </tbody>\n",
       "</table>\n",
       "</div>"
      ],
      "text/plain": [
       "   client_id  clnt_tenure_yr  clnt_tenure_mnth  clnt_age gendr  num_accts  \\\n",
       "0        169            21.0             262.0      47.5     M        2.0   \n",
       "1        555             3.0              46.0      29.5     U        2.0   \n",
       "2        647            12.0             151.0      57.5     M        2.0   \n",
       "3        722            11.0             143.0      59.5     F        2.0   \n",
       "4        934             9.0             109.0      51.0     F        2.0   \n",
       "\n",
       "         bal  calls_6_mnth  logons_6_mnth Variation  \n",
       "0  501570.72           4.0            4.0       NaN  \n",
       "1   25454.66           2.0            6.0      Test  \n",
       "2   30525.80           0.0            4.0      Test  \n",
       "3   22466.17           1.0            1.0       NaN  \n",
       "4   32522.88           0.0            3.0      Test  "
      ]
     },
     "execution_count": 13,
     "metadata": {},
     "output_type": "execute_result"
    }
   ],
   "source": [
    "df = pd.merge(df_final_demo, df_exp_cli, on ='client_id',how='outer')\n",
    "df.head()"
   ]
  },
  {
   "cell_type": "code",
   "execution_count": 14,
   "id": "1afabb05",
   "metadata": {},
   "outputs": [
    {
     "data": {
      "text/html": [
       "<div>\n",
       "<style scoped>\n",
       "    .dataframe tbody tr th:only-of-type {\n",
       "        vertical-align: middle;\n",
       "    }\n",
       "\n",
       "    .dataframe tbody tr th {\n",
       "        vertical-align: top;\n",
       "    }\n",
       "\n",
       "    .dataframe thead th {\n",
       "        text-align: right;\n",
       "    }\n",
       "</style>\n",
       "<table border=\"1\" class=\"dataframe\">\n",
       "  <thead>\n",
       "    <tr style=\"text-align: right;\">\n",
       "      <th></th>\n",
       "      <th>client_id</th>\n",
       "      <th>clnt_tenure_yr</th>\n",
       "      <th>clnt_tenure_mnth</th>\n",
       "      <th>clnt_age</th>\n",
       "      <th>gendr</th>\n",
       "      <th>num_accts</th>\n",
       "      <th>bal</th>\n",
       "      <th>calls_6_mnth</th>\n",
       "      <th>logons_6_mnth</th>\n",
       "      <th>Variation</th>\n",
       "    </tr>\n",
       "  </thead>\n",
       "  <tbody>\n",
       "    <tr>\n",
       "      <th>0</th>\n",
       "      <td>169</td>\n",
       "      <td>21.0</td>\n",
       "      <td>262.0</td>\n",
       "      <td>47.5</td>\n",
       "      <td>M</td>\n",
       "      <td>2.0</td>\n",
       "      <td>501570.72</td>\n",
       "      <td>4.0</td>\n",
       "      <td>4.0</td>\n",
       "      <td>NaN</td>\n",
       "    </tr>\n",
       "    <tr>\n",
       "      <th>1</th>\n",
       "      <td>555</td>\n",
       "      <td>3.0</td>\n",
       "      <td>46.0</td>\n",
       "      <td>29.5</td>\n",
       "      <td>U</td>\n",
       "      <td>2.0</td>\n",
       "      <td>25454.66</td>\n",
       "      <td>2.0</td>\n",
       "      <td>6.0</td>\n",
       "      <td>Test</td>\n",
       "    </tr>\n",
       "    <tr>\n",
       "      <th>2</th>\n",
       "      <td>647</td>\n",
       "      <td>12.0</td>\n",
       "      <td>151.0</td>\n",
       "      <td>57.5</td>\n",
       "      <td>M</td>\n",
       "      <td>2.0</td>\n",
       "      <td>30525.80</td>\n",
       "      <td>0.0</td>\n",
       "      <td>4.0</td>\n",
       "      <td>Test</td>\n",
       "    </tr>\n",
       "    <tr>\n",
       "      <th>3</th>\n",
       "      <td>722</td>\n",
       "      <td>11.0</td>\n",
       "      <td>143.0</td>\n",
       "      <td>59.5</td>\n",
       "      <td>F</td>\n",
       "      <td>2.0</td>\n",
       "      <td>22466.17</td>\n",
       "      <td>1.0</td>\n",
       "      <td>1.0</td>\n",
       "      <td>NaN</td>\n",
       "    </tr>\n",
       "    <tr>\n",
       "      <th>4</th>\n",
       "      <td>934</td>\n",
       "      <td>9.0</td>\n",
       "      <td>109.0</td>\n",
       "      <td>51.0</td>\n",
       "      <td>F</td>\n",
       "      <td>2.0</td>\n",
       "      <td>32522.88</td>\n",
       "      <td>0.0</td>\n",
       "      <td>3.0</td>\n",
       "      <td>Test</td>\n",
       "    </tr>\n",
       "  </tbody>\n",
       "</table>\n",
       "</div>"
      ],
      "text/plain": [
       "   client_id  clnt_tenure_yr  clnt_tenure_mnth  clnt_age gendr  num_accts  \\\n",
       "0        169            21.0             262.0      47.5     M        2.0   \n",
       "1        555             3.0              46.0      29.5     U        2.0   \n",
       "2        647            12.0             151.0      57.5     M        2.0   \n",
       "3        722            11.0             143.0      59.5     F        2.0   \n",
       "4        934             9.0             109.0      51.0     F        2.0   \n",
       "\n",
       "         bal  calls_6_mnth  logons_6_mnth Variation  \n",
       "0  501570.72           4.0            4.0       NaN  \n",
       "1   25454.66           2.0            6.0      Test  \n",
       "2   30525.80           0.0            4.0      Test  \n",
       "3   22466.17           1.0            1.0       NaN  \n",
       "4   32522.88           0.0            3.0      Test  "
      ]
     },
     "execution_count": 14,
     "metadata": {},
     "output_type": "execute_result"
    }
   ],
   "source": [
    "df.head()"
   ]
  },
  {
   "cell_type": "code",
   "execution_count": 15,
   "id": "9225cdf0",
   "metadata": {},
   "outputs": [
    {
     "data": {
      "text/plain": [
       "(70609, 10)"
      ]
     },
     "execution_count": 15,
     "metadata": {},
     "output_type": "execute_result"
    }
   ],
   "source": [
    "df.shape"
   ]
  },
  {
   "cell_type": "code",
   "execution_count": 16,
   "id": "c999692a",
   "metadata": {},
   "outputs": [
    {
     "data": {
      "text/plain": [
       "client_id             int64\n",
       "clnt_tenure_yr      float64\n",
       "clnt_tenure_mnth    float64\n",
       "clnt_age            float64\n",
       "gendr                object\n",
       "num_accts           float64\n",
       "bal                 float64\n",
       "calls_6_mnth        float64\n",
       "logons_6_mnth       float64\n",
       "Variation            object\n",
       "dtype: object"
      ]
     },
     "execution_count": 16,
     "metadata": {},
     "output_type": "execute_result"
    }
   ],
   "source": [
    "df.dtypes"
   ]
  },
  {
   "cell_type": "code",
   "execution_count": 17,
   "id": "167ee689",
   "metadata": {},
   "outputs": [
    {
     "data": {
      "text/plain": [
       "array([21.,  3., 12., 11.,  9.,  5.,  8.,  7., 48., 14., 19., 23., 13.,\n",
       "        4., 15.,  6., 16., 30., 27., 18., 20., 22., 17., 10., 24., 26.,\n",
       "       25., 28., 29., 43., 32., 31., 34., 36., 55., 33., 35.,  2., 51.,\n",
       "       37., 38., nan, 62., 40., 45., 39., 50., 52., 47., 44., 42., 41.,\n",
       "       46., 54., 49.])"
      ]
     },
     "execution_count": 17,
     "metadata": {},
     "output_type": "execute_result"
    }
   ],
   "source": [
    "df['clnt_tenure_yr'].unique()"
   ]
  },
  {
   "cell_type": "code",
   "execution_count": 18,
   "id": "c735a442",
   "metadata": {},
   "outputs": [
    {
     "data": {
      "text/plain": [
       "array([ 2.,  3.,  4.,  5.,  6.,  7.,  8.,  9., 10., 11., 12., 13., 14.,\n",
       "       15., 16., 17., 18., 19., 20., 21., 22., 23., 24., 25., 26., 27.,\n",
       "       28., 29., 30., 31., 32., 33., 34., 35., 36., 37., 38., 39., 40.,\n",
       "       41., 42., 43., 44., 45., 46., 47., 48., 49., 50., 51., 52., 54.,\n",
       "       55., 62., nan])"
      ]
     },
     "execution_count": 18,
     "metadata": {},
     "output_type": "execute_result"
    }
   ],
   "source": [
    "np.sort(df['clnt_tenure_yr'].unique())"
   ]
  },
  {
   "cell_type": "code",
   "execution_count": 19,
   "id": "b007fc4d",
   "metadata": {},
   "outputs": [],
   "source": [
    "df['clnt_tenure_yr'] = df['clnt_tenure_yr'].astype('Int64')"
   ]
  },
  {
   "cell_type": "code",
   "execution_count": 20,
   "id": "f15ee870",
   "metadata": {},
   "outputs": [
    {
     "data": {
      "text/plain": [
       "array([262.,  46., 151., 143., 109., 145.,  66.,  99.,  85., 576., 177.,\n",
       "        60., 150., 139., 229., 280., 260., 110., 157.,  98.,  63., 179.,\n",
       "       231., 142.,  58., 117., 116., 189., 190.,  75.,  94., 172., 199.,\n",
       "       154.,  86.,  77., 253., 361.,  57., 173.,  92., 329.,  72.,  81.,\n",
       "       149., 155.,  89., 195., 141., 106., 252., 218., 364., 140., 241.,\n",
       "       257., 226., 269., 170., 164.,  78., 108.,  56., 105.,  88., 211.,\n",
       "       205.,  73., 194.,  69., 171., 126.,  71.,  83., 121., 299., 156.,\n",
       "       285., 191., 321., 200.,  55.,  76., 242., 281., 294., 224., 166.,\n",
       "        70., 304.,  65., 169., 264., 230., 222., 160., 192.,  74.,  84.,\n",
       "        82., 168., 124., 119., 342., 219., 163., 144., 193., 131., 118.,\n",
       "       158.,  87., 186., 107., 196.,  91., 277., 125., 122., 259., 178.,\n",
       "       123., 310., 181., 232., 352., 214., 114., 250., 101.,  59., 345.,\n",
       "       282.,  80., 129.,  68., 184., 174., 268., 246., 176., 183.,  95.,\n",
       "        48., 255., 215., 100., 298., 187., 355., 318.,  90., 209., 245.,\n",
       "       137., 248., 284., 274., 228., 247., 359., 339.,  50.,  64., 254.,\n",
       "       130., 138., 276.,  44., 136., 271.,  54., 133.,  62., 319., 290.,\n",
       "        93., 216., 152., 289., 261., 362., 113., 103., 212., 206.,  67.,\n",
       "       516., 322., 391., 202., 279., 331., 313., 337., 182., 343.,  79.,\n",
       "       272., 295., 369., 115., 288., 238., 161., 112., 373., 371., 134.,\n",
       "       225., 127., 148., 201., 147., 102., 165., 220., 128., 330., 132.,\n",
       "       414., 296., 349., 185., 162., 273., 408.,  37., 258., 120.,  97.,\n",
       "       188., 243.,  53., 301., 308., 286., 370., 317., 315.,  47., 328.,\n",
       "       300., 197., 283., 111., 208., 167., 135., 346., 217., 180., 239.,\n",
       "       204., 338., 153., 305.,  61., 249., 367., 442., 667., 263., 104.,\n",
       "       267., 210., 159., 348., 320., 354.,  49., 198., 397., 234., 428.,\n",
       "       287.,  96., 292., 251., 336., 291., 406., 334., 223., 347., 275.,\n",
       "        52., 411., 256., 326., 396., 270., 325., 236., 175., 221., 203.,\n",
       "       213., 418.,  34., 312., 613., 311., 344., 240., 146.,  39., 233.,\n",
       "       227., 358.,  45., 266., 392., 207., 265., 404., 237.,  36.,  38.,\n",
       "        41., 375., 306., 297., 335., 314., 429., 432., 278., 368., 327.,\n",
       "       453., 385.,  43., 293., 340., 427., 462.,  nan, 447., 749.,  40.,\n",
       "       394., 387., 316.,  35., 376., 422., 407., 360., 302., 386., 409.,\n",
       "       341., 384., 390., 382., 332., 235., 395., 309., 379., 365., 324.,\n",
       "       323., 381., 484., 419., 372., 303., 439., 401., 410., 403., 464.,\n",
       "        51., 550., 402., 420., 244., 398., 473.,  42., 380., 430., 353.,\n",
       "       351., 413., 357., 421., 431., 436., 378., 416., 307., 377., 363.,\n",
       "       423., 425., 389., 350., 610., 383., 445., 624.,  33., 571., 535.,\n",
       "       479., 463., 393., 356., 333., 482., 388., 366., 417., 460., 454.,\n",
       "       441., 603., 426., 480., 433., 424., 504., 668., 400., 459., 512.,\n",
       "       507., 492., 399., 451., 581., 415., 461., 614., 532., 444., 669.,\n",
       "       468., 526., 434., 374., 448., 511., 602., 465., 466., 483., 561.,\n",
       "       412., 457., 475., 446., 449., 564., 509., 655., 485., 569., 450.,\n",
       "       443., 562., 455., 563., 593., 554., 661., 608., 405., 585., 481.,\n",
       "       596., 472., 456., 469., 440., 589., 631., 586., 612., 539.])"
      ]
     },
     "execution_count": 20,
     "metadata": {},
     "output_type": "execute_result"
    }
   ],
   "source": [
    "df['clnt_tenure_mnth'].unique()"
   ]
  },
  {
   "cell_type": "code",
   "execution_count": 21,
   "id": "efc81f44",
   "metadata": {},
   "outputs": [],
   "source": [
    "df['clnt_tenure_mnth'] = df['clnt_tenure_mnth'].astype('Int64')"
   ]
  },
  {
   "cell_type": "code",
   "execution_count": 22,
   "id": "6915bdc3",
   "metadata": {},
   "outputs": [
    {
     "data": {
      "text/plain": [
       "array([47.5, 29.5, 57.5, 59.5, 51. , 36. , 48. , 22. , 54.5, 28.5, 42. ,\n",
       "       46. , 45. , 58.5, 51.5, 55. , 43. , 62.5, 46.5, 37.5, 26.5, 63.5,\n",
       "       56. , 25. , 52. , 63. , 30. , 70.5, 48.5, 38.5, 58. , 40. , 65.5,\n",
       "       64.5, 50.5, 40.5, 29. , 76. , 25.5, 67. , 35.5, 53. , 61.5, 41.5,\n",
       "       33. , 44. , 50. , 30.5, 55.5, 34. , 27. , 22.5, 38. , 36.5, 82. ,\n",
       "       26. , 74. , 23. , 31.5, 60. , 53.5, 28. , 37. , 39. , 27.5, 77.5,\n",
       "       52.5, 19.5, 62. , 34.5, 69. , 54. , 45.5, 65. , 21. , 20. , 60.5,\n",
       "       74.5, 68. , 61. , 41. , 43.5, 75.5, 49.5, 32. , 67.5, 19. , 49. ,\n",
       "       23.5, 33.5, 24. , 76.5, 71. , 59. , 15.5, 69.5, 56.5, 66. , 32.5,\n",
       "       42.5, 57. , 47. , 81.5, 31. , 44.5, 71.5, 70. , 24.5, 75. , 77. ,\n",
       "       81. , 14.5, 86.5, 73. , 39.5, 73.5, 79.5, 21.5, 85. , 35. , 80. ,\n",
       "       72.5, 78. , 18.5, 64. , 68.5, 66.5, 84. , 72. , 20.5, 83. , 91. ,\n",
       "       83.5, 16.5, 18. , 95.5, 82.5, 16. , 17. , 17.5, 80.5, 84.5, 78.5,\n",
       "       92. , 79. , 89. ,  nan, 15. , 90. , 86. , 87.5, 93.5, 88. , 85.5,\n",
       "       88.5, 87. , 94. , 90.5, 92.5, 89.5, 96. , 93. , 14. , 91.5, 13.5,\n",
       "       94.5])"
      ]
     },
     "execution_count": 22,
     "metadata": {},
     "output_type": "execute_result"
    }
   ],
   "source": [
    "df['clnt_age'].unique()"
   ]
  },
  {
   "cell_type": "code",
   "execution_count": 23,
   "id": "8338cc4d",
   "metadata": {},
   "outputs": [
    {
     "data": {
      "text/plain": [
       "array([ 2.,  3.,  5.,  4.,  6.,  8., nan,  7.,  1.])"
      ]
     },
     "execution_count": 23,
     "metadata": {},
     "output_type": "execute_result"
    }
   ],
   "source": [
    "df['num_accts'].unique()"
   ]
  },
  {
   "cell_type": "code",
   "execution_count": 24,
   "id": "b03dc844",
   "metadata": {},
   "outputs": [],
   "source": [
    "df['num_accts'] = df['num_accts'].astype('Int64')"
   ]
  },
  {
   "cell_type": "code",
   "execution_count": 25,
   "id": "3f6f281f",
   "metadata": {},
   "outputs": [
    {
     "data": {
      "text/plain": [
       "array([ 4.,  2.,  0.,  1.,  6.,  5.,  3.,  7., nan])"
      ]
     },
     "execution_count": 25,
     "metadata": {},
     "output_type": "execute_result"
    }
   ],
   "source": [
    "df['calls_6_mnth'].unique()"
   ]
  },
  {
   "cell_type": "code",
   "execution_count": 26,
   "id": "85f4e9eb",
   "metadata": {},
   "outputs": [],
   "source": [
    "df['calls_6_mnth'] = df['calls_6_mnth'].astype('Int64')"
   ]
  },
  {
   "cell_type": "code",
   "execution_count": 27,
   "id": "c4ceb876",
   "metadata": {},
   "outputs": [
    {
     "data": {
      "text/plain": [
       "array([ 4.,  6.,  1.,  3.,  9.,  5.,  8.,  7.,  2., nan])"
      ]
     },
     "execution_count": 27,
     "metadata": {},
     "output_type": "execute_result"
    }
   ],
   "source": [
    "df['logons_6_mnth'].unique()"
   ]
  },
  {
   "cell_type": "code",
   "execution_count": 28,
   "id": "3c63c7ca",
   "metadata": {},
   "outputs": [],
   "source": [
    "df['logons_6_mnth'] = df['logons_6_mnth'].astype('Int64')"
   ]
  },
  {
   "cell_type": "code",
   "execution_count": 29,
   "id": "f7375d0a",
   "metadata": {},
   "outputs": [],
   "source": [
    "df.columns = df.columns.str.lower()"
   ]
  },
  {
   "cell_type": "code",
   "execution_count": 30,
   "id": "b7433f0d",
   "metadata": {},
   "outputs": [
    {
     "data": {
      "text/plain": [
       "array(['M', 'U', 'F', nan, 'X'], dtype=object)"
      ]
     },
     "execution_count": 30,
     "metadata": {},
     "output_type": "execute_result"
    }
   ],
   "source": [
    "df['gendr'].unique()"
   ]
  },
  {
   "cell_type": "code",
   "execution_count": 31,
   "id": "8007ca12",
   "metadata": {},
   "outputs": [
    {
     "data": {
      "text/plain": [
       "0"
      ]
     },
     "execution_count": 31,
     "metadata": {},
     "output_type": "execute_result"
    }
   ],
   "source": [
    "df.duplicated().sum()"
   ]
  },
  {
   "cell_type": "code",
   "execution_count": 32,
   "id": "f176b293",
   "metadata": {},
   "outputs": [],
   "source": [
    "df['gendr'] = df['gendr'].fillna('U')"
   ]
  },
  {
   "cell_type": "code",
   "execution_count": 33,
   "id": "d972f7a1",
   "metadata": {},
   "outputs": [],
   "source": [
    "df['variation'] = df['variation'].fillna('no_experiment')"
   ]
  },
  {
   "cell_type": "code",
   "execution_count": 34,
   "id": "243b36a7",
   "metadata": {},
   "outputs": [
    {
     "data": {
      "text/plain": [
       "client_id            0\n",
       "clnt_tenure_yr      14\n",
       "clnt_tenure_mnth    14\n",
       "clnt_age            15\n",
       "gendr                0\n",
       "num_accts           14\n",
       "bal                 14\n",
       "calls_6_mnth        14\n",
       "logons_6_mnth       14\n",
       "variation            0\n",
       "dtype: int64"
      ]
     },
     "execution_count": 34,
     "metadata": {},
     "output_type": "execute_result"
    }
   ],
   "source": [
    "df.isnull().sum()"
   ]
  },
  {
   "cell_type": "code",
   "execution_count": 35,
   "id": "f202ef72",
   "metadata": {},
   "outputs": [],
   "source": [
    "df['clnt_age'] = df['clnt_age'].fillna(df['clnt_age'].mean())"
   ]
  },
  {
   "cell_type": "code",
   "execution_count": 36,
   "id": "555c2c86",
   "metadata": {},
   "outputs": [],
   "source": [
    "df.dropna(subset=['num_accts'], inplace=True)"
   ]
  },
  {
   "cell_type": "markdown",
   "id": "1633ac0b",
   "metadata": {},
   "source": [
    "### ¿Quienes son los principales clientes que utilizan este proceso en linea?"
   ]
  },
  {
   "cell_type": "code",
   "execution_count": 37,
   "id": "9c59236c",
   "metadata": {},
   "outputs": [],
   "source": [
    "# Primero queremos saber que cantidad de gente ha tomado el test.\n",
    "frequency_table = df['variation'].value_counts()\n",
    "frequency_table = frequency_table.loc[['Test', 'Control']]"
   ]
  },
  {
   "cell_type": "code",
   "execution_count": 38,
   "id": "71b5a6e0",
   "metadata": {},
   "outputs": [
    {
     "data": {
      "image/png": "[encoded data removed]",
      "text/plain": [
       "<Figure size 640x480 with 1 Axes>"
      ]
     },
     "metadata": {},
     "output_type": "display_data"
    }
   ],
   "source": [
    "frequency_table.plot.pie(autopct='%1.1f%%', startangle=90, colors=sns.color_palette(\"Set3\"))\n",
    "plt.show()"
   ]
  },
  {
   "cell_type": "code",
   "execution_count": 39,
   "id": "932bab0c",
   "metadata": {},
   "outputs": [
    {
     "name": "stderr",
     "output_type": "stream",
     "text": [
      "C:\\Users\\rocio\\AppData\\Local\\Temp\\ipykernel_23920\\1961423030.py:1: FutureWarning: \n",
      "\n",
      "Passing `palette` without assigning `hue` is deprecated and will be removed in v0.14.0. Assign the `x` variable to `hue` and set `legend=False` for the same effect.\n",
      "\n",
      "  sns.barplot(x=frequency_table.index, y=frequency_table.values, palette=\"Set3\")\n"
     ]
    },
    {
     "data": {
      "image/png": "[encoded data removed]",
      "text/plain": [
       "<Figure size 640x480 with 1 Axes>"
      ]
     },
     "metadata": {},
     "output_type": "display_data"
    }
   ],
   "source": [
    "sns.barplot(x=frequency_table.index, y=frequency_table.values, palette=\"Set3\")\n",
    "plt.show()"
   ]
  },
  {
   "cell_type": "markdown",
   "id": "23f7f74a",
   "metadata": {},
   "source": [
    "### ¿Son más bien jóvenes o mayores?"
   ]
  },
  {
   "cell_type": "code",
   "execution_count": 44,
   "id": "f95989cd",
   "metadata": {},
   "outputs": [
    {
     "data": {
      "text/plain": [
       "count    70595.000000\n",
       "mean        46.442240\n",
       "std         15.591162\n",
       "min         13.500000\n",
       "25%         32.500000\n",
       "50%         47.000000\n",
       "75%         59.000000\n",
       "max         96.000000\n",
       "Name: clnt_age, dtype: float64"
      ]
     },
     "execution_count": 44,
     "metadata": {},
     "output_type": "execute_result"
    }
   ],
   "source": [
    "df['clnt_age'].describe()"
   ]
  },
  {
   "cell_type": "code",
   "execution_count": 46,
   "id": "88fb1f34",
   "metadata": {},
   "outputs": [
    {
     "data": {
      "image/png": "[encoded data removed]",
      "text/plain": [
       "<Figure size 640x480 with 1 Axes>"
      ]
     },
     "metadata": {},
     "output_type": "display_data"
    }
   ],
   "source": [
    "sns.histplot(data=df, x='clnt_age', hue='variation', kde=True, bins=30, palette=\"Set3\")\n",
    "plt.title('Distribución de edad de los clientes por grupo de variación')\n",
    "plt.xlabel('Edad del cliente')\n",
    "plt.ylabel('Cantidad de clientes')\n",
    "plt.show()"
   ]
  },
  {
   "cell_type": "markdown",
   "id": "068ee8fd",
   "metadata": {},
   "source": [
    "Desde los 20 años en adelante, hay una base sólida de usuarios. Esto sugiere que la plataforma online está siendo usada activamente por adultos jóvenes en adelante.\n",
    "\n",
    "Primer pico en los 30s (~35 años):\n",
    "Probablemente representa a clientes que ya han comenzado a ahorrar/invertir activamente y están cómodos usando herramientas digitales.\n",
    "\n",
    "Segundo pico en los 50s (~57 años):\n",
    "Personas en etapa más avanzada de su carrera profesional. Probablemente con más patrimonio y uso activo de servicios financieros, pero también digitalmente competentes."
   ]
  },
  {
   "cell_type": "code",
   "execution_count": 48,
   "id": "80297da8",
   "metadata": {},
   "outputs": [
    {
     "name": "stderr",
     "output_type": "stream",
     "text": [
      "C:\\Users\\rocio\\AppData\\Local\\Temp\\ipykernel_23920\\1942034299.py:1: FutureWarning: \n",
      "\n",
      "Passing `palette` without assigning `hue` is deprecated and will be removed in v0.14.0. Assign the `x` variable to `hue` and set `legend=False` for the same effect.\n",
      "\n",
      "  sns.boxplot(data=df, x='variation', y='clnt_age',palette=\"Set3\")\n"
     ]
    },
    {
     "data": {
      "image/png": "[encoded data removed]",
      "text/plain": [
       "<Figure size 640x480 with 1 Axes>"
      ]
     },
     "metadata": {},
     "output_type": "display_data"
    }
   ],
   "source": [
    "sns.boxplot(data=df, x='variation', y='clnt_age',palette=\"Set3\")\n",
    "plt.title('Edad de clientes por grupo de variación')\n",
    "plt.xlabel('Grupo')\n",
    "plt.ylabel('Edad')\n",
    "plt.show()"
   ]
  },
  {
   "cell_type": "markdown",
   "id": "4e84cf8e",
   "metadata": {},
   "source": [
    "Los de test y los de control tienen edades similares."
   ]
  },
  {
   "cell_type": "markdown",
   "id": "66fc4673",
   "metadata": {},
   "source": [
    "Resumen: \n",
    "\n",
    "La mayoría de los clientes que usan el proceso online tienen más de 20 años, con dos grupos destacados alrededor de los 35 y 57 años. Esto indica que tanto adultos jóvenes como clientes de mediana edad son los principales usuarios del proceso digital."
   ]
  },
  {
   "cell_type": "markdown",
   "id": "d94ed3c4",
   "metadata": {},
   "source": [
    "### ¿Clientes nuevos o con más antigüedad?"
   ]
  },
  {
   "cell_type": "code",
   "execution_count": 50,
   "id": "db204616",
   "metadata": {},
   "outputs": [
    {
     "data": {
      "image/png": "[encoded data removed]",
      "text/plain": [
       "<Figure size 640x480 with 1 Axes>"
      ]
     },
     "metadata": {},
     "output_type": "display_data"
    }
   ],
   "source": [
    "sns.histplot(data=df, x='clnt_tenure_mnth', hue='variation', kde=True, bins=30, palette='Set3')\n",
    "plt.title('Distribución de antigüedad por grupo de variación')\n",
    "plt.xlabel('Antigüedad del cliente (en meses)')\n",
    "plt.ylabel('Cantidad de clientes')\n",
    "plt.show()"
   ]
  },
  {
   "cell_type": "code",
   "execution_count": 51,
   "id": "8d01bb2e",
   "metadata": {},
   "outputs": [
    {
     "name": "stderr",
     "output_type": "stream",
     "text": [
      "C:\\Users\\rocio\\AppData\\Local\\Temp\\ipykernel_23920\\1487374077.py:1: FutureWarning: \n",
      "\n",
      "Passing `palette` without assigning `hue` is deprecated and will be removed in v0.14.0. Assign the `x` variable to `hue` and set `legend=False` for the same effect.\n",
      "\n",
      "  sns.boxplot(data=df, x='variation', y='clnt_tenure_mnth', palette='Set3')\n"
     ]
    },
    {
     "data": {
      "image/png": "[encoded data removed]",
      "text/plain": [
       "<Figure size 640x480 with 1 Axes>"
      ]
     },
     "metadata": {},
     "output_type": "display_data"
    }
   ],
   "source": [
    "sns.boxplot(data=df, x='variation', y='clnt_tenure_mnth', palette='Set3')\n",
    "plt.title('Distribución de antigüedad por grupo')\n",
    "plt.xlabel('Grupo de variación')\n",
    "plt.ylabel('Antigüedad (en meses)')\n",
    "plt.show()"
   ]
  },
  {
   "cell_type": "markdown",
   "id": "ac0fb10b",
   "metadata": {},
   "source": [
    "La antigüedad se mide en meses, y la mayoría de los clientes tienen entre 50 y 80 meses (aproximadamente 4 a 6.5 años), donde se observa el pico más alto con cerca de 6000 clientes.\n",
    "\n",
    "Existe un segundo pico menos pronunciado entre 175 y 200 meses (14.5 a 16.5 años), ceerca de 3000 clientes.\n",
    "\n",
    "El rango intercuartílico (IQR) de antigüedad — es decir, el 50% central de los clientes — se encuentra entre 100 y 200 meses (aproximadamente 8 a 16 años).\n",
    "\n",
    "Esto indica que la mayoría de los clientes tienen una antigüedad media a alta, aunque también hay clientes con antiguedades mucho más altas que se consideran outliers en la distribución.\n",
    "\n",
    "La presencia de estos dos picos y el rango concentrado sugiere que tanto clientes relativamente nuevos como clientes con una larga trayectoria están activos en el proceso online, con una mayor concentración en rangos medios y altos de antigüedad, teniendo en cuenta que interpretamos que 4 años es medio alto."
   ]
  },
  {
   "cell_type": "code",
   "execution_count": 53,
   "id": "8ca1c774",
   "metadata": {},
   "outputs": [
    {
     "data": {
      "image/png": "[encoded data removed]",
      "text/plain": [
       "<Figure size 640x480 with 1 Axes>"
      ]
     },
     "metadata": {},
     "output_type": "display_data"
    }
   ],
   "source": [
    "sns.histplot(data=df, x='bal', hue='variation', bins=20, palette='Set3', kde=True)\n",
    "plt.title('Distribución del saldo total (bal) por grupo de variación')\n",
    "plt.xlabel('Saldo total (bal)')\n",
    "plt.ylabel('Cantidad de clientes')\n",
    "plt.show()"
   ]
  },
  {
   "cell_type": "code",
   "execution_count": 55,
   "id": "70e44bb5",
   "metadata": {},
   "outputs": [
    {
     "name": "stderr",
     "output_type": "stream",
     "text": [
      "C:\\Users\\rocio\\AppData\\Local\\Temp\\ipykernel_23920\\266369444.py:1: FutureWarning: \n",
      "\n",
      "Passing `palette` without assigning `hue` is deprecated and will be removed in v0.14.0. Assign the `x` variable to `hue` and set `legend=False` for the same effect.\n",
      "\n",
      "  sns.boxplot(data=df, x='variation', y='bal', palette='Set3')\n"
     ]
    },
    {
     "data": {
      "image/png": "[encoded data removed]",
      "text/plain": [
       "<Figure size 640x480 with 1 Axes>"
      ]
     },
     "metadata": {},
     "output_type": "display_data"
    }
   ],
   "source": [
    "sns.boxplot(data=df, x='variation', y='bal', palette='Set3')\n",
    "plt.title('Distribución de antigüedad por grupo')\n",
    "plt.xlabel('Grupo de variación')\n",
    "plt.ylabel('Antigüedad (en meses)')\n",
    "plt.show()"
   ]
  },
  {
   "cell_type": "code",
   "execution_count": null,
   "id": "760134f2",
   "metadata": {},
   "outputs": [
    {
     "data": {
      "text/html": [
       "<div>\n",
       "<style scoped>\n",
       "    .dataframe tbody tr th:only-of-type {\n",
       "        vertical-align: middle;\n",
       "    }\n",
       "\n",
       "    .dataframe tbody tr th {\n",
       "        vertical-align: top;\n",
       "    }\n",
       "\n",
       "    .dataframe thead th {\n",
       "        text-align: right;\n",
       "    }\n",
       "</style>\n",
       "<table border=\"1\" class=\"dataframe\">\n",
       "  <thead>\n",
       "    <tr style=\"text-align: right;\">\n",
       "      <th></th>\n",
       "      <th>count</th>\n",
       "      <th>mean</th>\n",
       "      <th>std</th>\n",
       "      <th>min</th>\n",
       "      <th>25%</th>\n",
       "      <th>50%</th>\n",
       "      <th>75%</th>\n",
       "      <th>max</th>\n",
       "    </tr>\n",
       "    <tr>\n",
       "      <th>variation</th>\n",
       "      <th></th>\n",
       "      <th></th>\n",
       "      <th></th>\n",
       "      <th></th>\n",
       "      <th></th>\n",
       "      <th></th>\n",
       "      <th></th>\n",
       "      <th></th>\n",
       "    </tr>\n",
       "  </thead>\n",
       "  <tbody>\n",
       "    <tr>\n",
       "      <th>Control</th>\n",
       "      <td>23527.0</td>\n",
       "      <td>150147.326660</td>\n",
       "      <td>295806.950360</td>\n",
       "      <td>23789.61</td>\n",
       "      <td>40123.355</td>\n",
       "      <td>66024.18</td>\n",
       "      <td>140606.045</td>\n",
       "      <td>8292996.21</td>\n",
       "    </tr>\n",
       "    <tr>\n",
       "      <th>Test</th>\n",
       "      <td>26961.0</td>\n",
       "      <td>148962.605032</td>\n",
       "      <td>307373.713775</td>\n",
       "      <td>23789.44</td>\n",
       "      <td>39729.200</td>\n",
       "      <td>65468.36</td>\n",
       "      <td>139478.580</td>\n",
       "      <td>16320040.15</td>\n",
       "    </tr>\n",
       "    <tr>\n",
       "      <th>no_experiment</th>\n",
       "      <td>20107.0</td>\n",
       "      <td>142248.958795</td>\n",
       "      <td>300124.151719</td>\n",
       "      <td>13789.42</td>\n",
       "      <td>30147.715</td>\n",
       "      <td>56338.10</td>\n",
       "      <td>130512.655</td>\n",
       "      <td>12838418.01</td>\n",
       "    </tr>\n",
       "  </tbody>\n",
       "</table>\n",
       "</div>"
      ],
      "text/plain": [
       "                 count           mean            std       min        25%  \\\n",
       "variation                                                                   \n",
       "Control        23527.0  150147.326660  295806.950360  23789.61  40123.355   \n",
       "Test           26961.0  148962.605032  307373.713775  23789.44  39729.200   \n",
       "no_experiment  20107.0  142248.958795  300124.151719  13789.42  30147.715   \n",
       "\n",
       "                    50%         75%          max  \n",
       "variation                                         \n",
       "Control        66024.18  140606.045   8292996.21  \n",
       "Test           65468.36  139478.580  16320040.15  \n",
       "no_experiment  56338.10  130512.655  12838418.01  "
      ]
     },
     "execution_count": 54,
     "metadata": {},
     "output_type": "execute_result"
    }
   ],
   "source": [
    "df.groupby('variation')['bal'].describe()"
   ]
  },
  {
   "cell_type": "markdown",
   "id": "a8c43ff6",
   "metadata": {},
   "source": [
    "La mayoría de los clientes tienen saldos bajos, concentrados por debajo de 140,000, con un gran pico en el histograma entre 0 y 20,000, lo que sugiere que muchos clientes tienen cuentas pequeñas.\n",
    "\n",
    "El IQR (25%–75%) en todos los grupos se encuentra entre aproximadamente 30,000 y 140,000, mostrando que la mayoría de los clientes se mueve dentro de ese rango de saldo.\n",
    "\n",
    "Sin embargo, existen outliers muy extremos con saldos millonarios, lo que genera una alta desviación estándar y una gran diferencia entre la media y la mediana."
   ]
  },
  {
   "cell_type": "markdown",
   "id": "38528f8e",
   "metadata": {},
   "source": [
    "La mayoría de los clientes tienen saldos pequeños, concentrados por debajo de 200 mil. Sin embargo, existen clientes con saldos muy altos que aparecen como outliers, y estos están presentes en distintos grupos del experimento. Esto podría influir en los resultados si no se controla adecuadamente, por lo que conviene considerar análisis complementarios con y sin estos outliers."
   ]
  },
  {
   "cell_type": "code",
   "execution_count": 59,
   "id": "06708d5c",
   "metadata": {},
   "outputs": [
    {
     "data": {
      "text/html": [
       "<div>\n",
       "<style scoped>\n",
       "    .dataframe tbody tr th:only-of-type {\n",
       "        vertical-align: middle;\n",
       "    }\n",
       "\n",
       "    .dataframe tbody tr th {\n",
       "        vertical-align: top;\n",
       "    }\n",
       "\n",
       "    .dataframe thead th {\n",
       "        text-align: right;\n",
       "    }\n",
       "</style>\n",
       "<table border=\"1\" class=\"dataframe\">\n",
       "  <thead>\n",
       "    <tr style=\"text-align: right;\">\n",
       "      <th></th>\n",
       "      <th>count</th>\n",
       "      <th>mean</th>\n",
       "      <th>std</th>\n",
       "      <th>min</th>\n",
       "      <th>25%</th>\n",
       "      <th>50%</th>\n",
       "      <th>75%</th>\n",
       "      <th>max</th>\n",
       "    </tr>\n",
       "    <tr>\n",
       "      <th>variation</th>\n",
       "      <th></th>\n",
       "      <th></th>\n",
       "      <th></th>\n",
       "      <th></th>\n",
       "      <th></th>\n",
       "      <th></th>\n",
       "      <th></th>\n",
       "      <th></th>\n",
       "    </tr>\n",
       "  </thead>\n",
       "  <tbody>\n",
       "    <tr>\n",
       "      <th>Control</th>\n",
       "      <td>20780.0</td>\n",
       "      <td>80309.823968</td>\n",
       "      <td>58259.460480</td>\n",
       "      <td>23789.61</td>\n",
       "      <td>37864.4975</td>\n",
       "      <td>58422.115</td>\n",
       "      <td>103310.0475</td>\n",
       "      <td>287831.43</td>\n",
       "    </tr>\n",
       "    <tr>\n",
       "      <th>Test</th>\n",
       "      <td>23938.0</td>\n",
       "      <td>80648.496650</td>\n",
       "      <td>59330.513978</td>\n",
       "      <td>23789.44</td>\n",
       "      <td>37646.6225</td>\n",
       "      <td>57708.025</td>\n",
       "      <td>103820.8200</td>\n",
       "      <td>287696.13</td>\n",
       "    </tr>\n",
       "    <tr>\n",
       "      <th>no_experiment</th>\n",
       "      <td>17859.0</td>\n",
       "      <td>72180.509917</td>\n",
       "      <td>61148.709492</td>\n",
       "      <td>13789.42</td>\n",
       "      <td>28024.6300</td>\n",
       "      <td>48871.850</td>\n",
       "      <td>94986.7600</td>\n",
       "      <td>287813.68</td>\n",
       "    </tr>\n",
       "  </tbody>\n",
       "</table>\n",
       "</div>"
      ],
      "text/plain": [
       "                 count          mean           std       min         25%  \\\n",
       "variation                                                                  \n",
       "Control        20780.0  80309.823968  58259.460480  23789.61  37864.4975   \n",
       "Test           23938.0  80648.496650  59330.513978  23789.44  37646.6225   \n",
       "no_experiment  17859.0  72180.509917  61148.709492  13789.42  28024.6300   \n",
       "\n",
       "                     50%          75%        max  \n",
       "variation                                         \n",
       "Control        58422.115  103310.0475  287831.43  \n",
       "Test           57708.025  103820.8200  287696.13  \n",
       "no_experiment  48871.850   94986.7600  287813.68  "
      ]
     },
     "execution_count": 59,
     "metadata": {},
     "output_type": "execute_result"
    }
   ],
   "source": [
    "# Calcular Q1 y Q3\n",
    "Q1 = df['bal'].quantile(0.25)\n",
    "Q3 = df['bal'].quantile(0.75)\n",
    "IQR = Q3 - Q1\n",
    "\n",
    "# Definir el umbral superior para outliers\n",
    "upper_bound = Q3 + 1.5 * IQR\n",
    "\n",
    "# Filtrar el DataFrame sin outliers\n",
    "df_bal_clean = df[df['bal'] <= upper_bound]\n",
    "\n",
    "# Ver describe() sin outliers\n",
    "df_bal_clean.groupby('variation')['bal'].describe()"
   ]
  },
  {
   "cell_type": "code",
   "execution_count": 60,
   "id": "8380bf4e",
   "metadata": {},
   "outputs": [
    {
     "name": "stderr",
     "output_type": "stream",
     "text": [
      "C:\\Users\\rocio\\AppData\\Local\\Temp\\ipykernel_23920\\3296951042.py:1: FutureWarning: \n",
      "\n",
      "Passing `palette` without assigning `hue` is deprecated and will be removed in v0.14.0. Assign the `x` variable to `hue` and set `legend=False` for the same effect.\n",
      "\n",
      "  sns.boxplot(data=df_bal_clean, x='variation', y='bal', palette='Set3')\n"
     ]
    },
    {
     "data": {
      "image/png": "[encoded data removed]",
      "text/plain": [
       "<Figure size 640x480 with 1 Axes>"
      ]
     },
     "metadata": {},
     "output_type": "display_data"
    }
   ],
   "source": [
    "sns.boxplot(data=df_bal_clean, x='variation', y='bal', palette='Set3')\n",
    "plt.title('Distribución de antigüedad por grupo')\n",
    "plt.xlabel('Grupo de variación')\n",
    "plt.ylabel('Antigüedad (en meses)')\n",
    "plt.show()"
   ]
  },
  {
   "cell_type": "markdown",
   "id": "377589e2",
   "metadata": {},
   "source": [
    "Las medias bajan significativamente respecto al análisis con outliers (antes rondaban los 140–150k), lo que confirma que había valores extremos inflando el promedio.\n",
    "\n",
    "Ahora la media y la mediana están más cercanas, lo cual indica una distribución más equilibrada.\n",
    "\n",
    "Test y Control siguen muy parejos en valores medios, lo que sugiere un reparto equitativo de los clientes por saldo en el experimento.\n",
    "\n",
    "El grupo no_experiment tiene valores algo más bajos tanto en media como mediana, lo cual podría indicar un perfil de cliente diferente (menos consolidado o más nuevo)."
   ]
  },
  {
   "cell_type": "markdown",
   "id": "50226976",
   "metadata": {},
   "source": [
    "## KPI"
   ]
  },
  {
   "cell_type": "markdown",
   "id": "846a1edc",
   "metadata": {},
   "source": [
    "### #1: Completion Rate"
   ]
  },
  {
   "cell_type": "code",
   "execution_count": 65,
   "id": "f060b0f1",
   "metadata": {},
   "outputs": [
    {
     "data": {
      "text/html": [
       "<div>\n",
       "<style scoped>\n",
       "    .dataframe tbody tr th:only-of-type {\n",
       "        vertical-align: middle;\n",
       "    }\n",
       "\n",
       "    .dataframe tbody tr th {\n",
       "        vertical-align: top;\n",
       "    }\n",
       "\n",
       "    .dataframe thead th {\n",
       "        text-align: right;\n",
       "    }\n",
       "</style>\n",
       "<table border=\"1\" class=\"dataframe\">\n",
       "  <thead>\n",
       "    <tr style=\"text-align: right;\">\n",
       "      <th></th>\n",
       "      <th>client_id</th>\n",
       "      <th>visitor_id</th>\n",
       "      <th>visit_id</th>\n",
       "      <th>process_step</th>\n",
       "      <th>date_time</th>\n",
       "      <th>Variation</th>\n",
       "    </tr>\n",
       "  </thead>\n",
       "  <tbody>\n",
       "    <tr>\n",
       "      <th>0</th>\n",
       "      <td>169</td>\n",
       "      <td>201385055_71273495308</td>\n",
       "      <td>749567106_99161211863_557568</td>\n",
       "      <td>confirm</td>\n",
       "      <td>2017-04-12 20:23:09</td>\n",
       "      <td>NaN</td>\n",
       "    </tr>\n",
       "    <tr>\n",
       "      <th>1</th>\n",
       "      <td>169</td>\n",
       "      <td>201385055_71273495308</td>\n",
       "      <td>749567106_99161211863_557568</td>\n",
       "      <td>step_3</td>\n",
       "      <td>2017-04-12 20:22:05</td>\n",
       "      <td>NaN</td>\n",
       "    </tr>\n",
       "    <tr>\n",
       "      <th>2</th>\n",
       "      <td>169</td>\n",
       "      <td>201385055_71273495308</td>\n",
       "      <td>749567106_99161211863_557568</td>\n",
       "      <td>step_2</td>\n",
       "      <td>2017-04-12 20:20:31</td>\n",
       "      <td>NaN</td>\n",
       "    </tr>\n",
       "    <tr>\n",
       "      <th>3</th>\n",
       "      <td>169</td>\n",
       "      <td>201385055_71273495308</td>\n",
       "      <td>749567106_99161211863_557568</td>\n",
       "      <td>step_1</td>\n",
       "      <td>2017-04-12 20:19:45</td>\n",
       "      <td>NaN</td>\n",
       "    </tr>\n",
       "    <tr>\n",
       "      <th>4</th>\n",
       "      <td>169</td>\n",
       "      <td>201385055_71273495308</td>\n",
       "      <td>749567106_99161211863_557568</td>\n",
       "      <td>start</td>\n",
       "      <td>2017-04-12 20:19:36</td>\n",
       "      <td>NaN</td>\n",
       "    </tr>\n",
       "  </tbody>\n",
       "</table>\n",
       "</div>"
      ],
      "text/plain": [
       "   client_id             visitor_id                      visit_id  \\\n",
       "0        169  201385055_71273495308  749567106_99161211863_557568   \n",
       "1        169  201385055_71273495308  749567106_99161211863_557568   \n",
       "2        169  201385055_71273495308  749567106_99161211863_557568   \n",
       "3        169  201385055_71273495308  749567106_99161211863_557568   \n",
       "4        169  201385055_71273495308  749567106_99161211863_557568   \n",
       "\n",
       "  process_step           date_time Variation  \n",
       "0      confirm 2017-04-12 20:23:09       NaN  \n",
       "1       step_3 2017-04-12 20:22:05       NaN  \n",
       "2       step_2 2017-04-12 20:20:31       NaN  \n",
       "3       step_1 2017-04-12 20:19:45       NaN  \n",
       "4        start 2017-04-12 20:19:36       NaN  "
      ]
     },
     "execution_count": 65,
     "metadata": {},
     "output_type": "execute_result"
    }
   ],
   "source": [
    "df_web_v = pd.merge(df_web, df_exp_cli, on ='client_id',how='outer')\n",
    "df_web_v.head()"
   ]
  },
  {
   "cell_type": "code",
   "execution_count": 67,
   "id": "6f67a9a5",
   "metadata": {},
   "outputs": [],
   "source": [
    "df_web_v['Variation'] = df_web_v['Variation'].fillna('no_experiment')"
   ]
  },
  {
   "cell_type": "code",
   "execution_count": 75,
   "id": "ecf241b7",
   "metadata": {},
   "outputs": [
    {
     "data": {
      "text/html": [
       "<div>\n",
       "<style scoped>\n",
       "    .dataframe tbody tr th:only-of-type {\n",
       "        vertical-align: middle;\n",
       "    }\n",
       "\n",
       "    .dataframe tbody tr th {\n",
       "        vertical-align: top;\n",
       "    }\n",
       "\n",
       "    .dataframe thead th {\n",
       "        text-align: right;\n",
       "    }\n",
       "</style>\n",
       "<table border=\"1\" class=\"dataframe\">\n",
       "  <thead>\n",
       "    <tr style=\"text-align: right;\">\n",
       "      <th></th>\n",
       "      <th>client_id</th>\n",
       "      <th>Variation</th>\n",
       "    </tr>\n",
       "  </thead>\n",
       "  <tbody>\n",
       "    <tr>\n",
       "      <th>0</th>\n",
       "      <td>169</td>\n",
       "      <td>no_experiment</td>\n",
       "    </tr>\n",
       "    <tr>\n",
       "      <th>7</th>\n",
       "      <td>546</td>\n",
       "      <td>no_experiment</td>\n",
       "    </tr>\n",
       "    <tr>\n",
       "      <th>12</th>\n",
       "      <td>555</td>\n",
       "      <td>Test</td>\n",
       "    </tr>\n",
       "    <tr>\n",
       "      <th>17</th>\n",
       "      <td>647</td>\n",
       "      <td>Test</td>\n",
       "    </tr>\n",
       "    <tr>\n",
       "      <th>22</th>\n",
       "      <td>722</td>\n",
       "      <td>no_experiment</td>\n",
       "    </tr>\n",
       "    <tr>\n",
       "      <th>...</th>\n",
       "      <td>...</td>\n",
       "      <td>...</td>\n",
       "    </tr>\n",
       "    <tr>\n",
       "      <th>755359</th>\n",
       "      <td>9999451</td>\n",
       "      <td>no_experiment</td>\n",
       "    </tr>\n",
       "    <tr>\n",
       "      <th>755374</th>\n",
       "      <td>9999729</td>\n",
       "      <td>Test</td>\n",
       "    </tr>\n",
       "    <tr>\n",
       "      <th>755379</th>\n",
       "      <td>9999768</td>\n",
       "      <td>no_experiment</td>\n",
       "    </tr>\n",
       "    <tr>\n",
       "      <th>755393</th>\n",
       "      <td>9999839</td>\n",
       "      <td>no_experiment</td>\n",
       "    </tr>\n",
       "    <tr>\n",
       "      <th>755399</th>\n",
       "      <td>9999875</td>\n",
       "      <td>no_experiment</td>\n",
       "    </tr>\n",
       "  </tbody>\n",
       "</table>\n",
       "<p>81145 rows × 2 columns</p>\n",
       "</div>"
      ],
      "text/plain": [
       "        client_id      Variation\n",
       "0             169  no_experiment\n",
       "7             546  no_experiment\n",
       "12            555           Test\n",
       "17            647           Test\n",
       "22            722  no_experiment\n",
       "...           ...            ...\n",
       "755359    9999451  no_experiment\n",
       "755374    9999729           Test\n",
       "755379    9999768  no_experiment\n",
       "755393    9999839  no_experiment\n",
       "755399    9999875  no_experiment\n",
       "\n",
       "[81145 rows x 2 columns]"
      ]
     },
     "execution_count": 75,
     "metadata": {},
     "output_type": "execute_result"
    }
   ],
   "source": [
    "completed = df_web_v[df_web_v['process_step'] == 'confirm'][['client_id', 'Variation']].drop_duplicates()\n",
    "completed"
   ]
  },
  {
   "cell_type": "code",
   "execution_count": 79,
   "id": "1777f7c5",
   "metadata": {},
   "outputs": [
    {
     "data": {
      "text/html": [
       "<div>\n",
       "<style scoped>\n",
       "    .dataframe tbody tr th:only-of-type {\n",
       "        vertical-align: middle;\n",
       "    }\n",
       "\n",
       "    .dataframe tbody tr th {\n",
       "        vertical-align: top;\n",
       "    }\n",
       "\n",
       "    .dataframe thead th {\n",
       "        text-align: right;\n",
       "    }\n",
       "</style>\n",
       "<table border=\"1\" class=\"dataframe\">\n",
       "  <thead>\n",
       "    <tr style=\"text-align: right;\">\n",
       "      <th></th>\n",
       "      <th>client_id</th>\n",
       "    </tr>\n",
       "    <tr>\n",
       "      <th>Variation</th>\n",
       "      <th></th>\n",
       "    </tr>\n",
       "  </thead>\n",
       "  <tbody>\n",
       "    <tr>\n",
       "      <th>Control</th>\n",
       "      <td>23532</td>\n",
       "    </tr>\n",
       "    <tr>\n",
       "      <th>Test</th>\n",
       "      <td>26968</td>\n",
       "    </tr>\n",
       "    <tr>\n",
       "      <th>no_experiment</th>\n",
       "      <td>69657</td>\n",
       "    </tr>\n",
       "  </tbody>\n",
       "</table>\n",
       "</div>"
      ],
      "text/plain": [
       "               client_id\n",
       "Variation               \n",
       "Control            23532\n",
       "Test               26968\n",
       "no_experiment      69657"
      ]
     },
     "execution_count": 79,
     "metadata": {},
     "output_type": "execute_result"
    }
   ],
   "source": [
    "total_clients = df_web_v[['client_id', 'Variation']].drop_duplicates().groupby('Variation').count()\n",
    "total_clients"
   ]
  },
  {
   "cell_type": "code",
   "execution_count": 82,
   "id": "0290430b",
   "metadata": {},
   "outputs": [
    {
     "data": {
      "text/html": [
       "<div>\n",
       "<style scoped>\n",
       "    .dataframe tbody tr th:only-of-type {\n",
       "        vertical-align: middle;\n",
       "    }\n",
       "\n",
       "    .dataframe tbody tr th {\n",
       "        vertical-align: top;\n",
       "    }\n",
       "\n",
       "    .dataframe thead th {\n",
       "        text-align: right;\n",
       "    }\n",
       "</style>\n",
       "<table border=\"1\" class=\"dataframe\">\n",
       "  <thead>\n",
       "    <tr style=\"text-align: right;\">\n",
       "      <th></th>\n",
       "      <th>client_id</th>\n",
       "    </tr>\n",
       "    <tr>\n",
       "      <th>Variation</th>\n",
       "      <th></th>\n",
       "    </tr>\n",
       "  </thead>\n",
       "  <tbody>\n",
       "    <tr>\n",
       "      <th>Control</th>\n",
       "      <td>15434</td>\n",
       "    </tr>\n",
       "    <tr>\n",
       "      <th>Test</th>\n",
       "      <td>18687</td>\n",
       "    </tr>\n",
       "    <tr>\n",
       "      <th>no_experiment</th>\n",
       "      <td>47024</td>\n",
       "    </tr>\n",
       "  </tbody>\n",
       "</table>\n",
       "</div>"
      ],
      "text/plain": [
       "               client_id\n",
       "Variation               \n",
       "Control            15434\n",
       "Test               18687\n",
       "no_experiment      47024"
      ]
     },
     "execution_count": 82,
     "metadata": {},
     "output_type": "execute_result"
    }
   ],
   "source": [
    "completed_clients = completed.groupby('Variation').count()\n",
    "completed_clients"
   ]
  },
  {
   "cell_type": "code",
   "execution_count": 88,
   "id": "f71c00ce",
   "metadata": {},
   "outputs": [
    {
     "data": {
      "text/html": [
       "<div>\n",
       "<style scoped>\n",
       "    .dataframe tbody tr th:only-of-type {\n",
       "        vertical-align: middle;\n",
       "    }\n",
       "\n",
       "    .dataframe tbody tr th {\n",
       "        vertical-align: top;\n",
       "    }\n",
       "\n",
       "    .dataframe thead th {\n",
       "        text-align: right;\n",
       "    }\n",
       "</style>\n",
       "<table border=\"1\" class=\"dataframe\">\n",
       "  <thead>\n",
       "    <tr style=\"text-align: right;\">\n",
       "      <th></th>\n",
       "      <th>client_id</th>\n",
       "    </tr>\n",
       "    <tr>\n",
       "      <th>Variation</th>\n",
       "      <th></th>\n",
       "    </tr>\n",
       "  </thead>\n",
       "  <tbody>\n",
       "    <tr>\n",
       "      <th>Control</th>\n",
       "      <td>65.59</td>\n",
       "    </tr>\n",
       "    <tr>\n",
       "      <th>Test</th>\n",
       "      <td>69.29</td>\n",
       "    </tr>\n",
       "    <tr>\n",
       "      <th>no_experiment</th>\n",
       "      <td>67.51</td>\n",
       "    </tr>\n",
       "  </tbody>\n",
       "</table>\n",
       "</div>"
      ],
      "text/plain": [
       "               client_id\n",
       "Variation               \n",
       "Control            65.59\n",
       "Test               69.29\n",
       "no_experiment      67.51"
      ]
     },
     "execution_count": 88,
     "metadata": {},
     "output_type": "execute_result"
    }
   ],
   "source": [
    "completion_rate = (completed_clients / total_clients)*100\n",
    "completion_rate = completion_rate.round(2)\n",
    "completion_rate"
   ]
  },
  {
   "cell_type": "code",
   "execution_count": 91,
   "id": "fffc6cf7",
   "metadata": {},
   "outputs": [
    {
     "name": "stderr",
     "output_type": "stream",
     "text": [
      "C:\\Users\\rocio\\AppData\\Local\\Temp\\ipykernel_23920\\1299123976.py:1: FutureWarning: \n",
      "\n",
      "Passing `palette` without assigning `hue` is deprecated and will be removed in v0.14.0. Assign the `x` variable to `hue` and set `legend=False` for the same effect.\n",
      "\n",
      "  sns.barplot(data=completion_rate, x='Variation', y='client_id', palette='Set2')\n"
     ]
    },
    {
     "data": {
      "image/png": "[encoded data removed]",
      "text/plain": [
       "<Figure size 640x480 with 1 Axes>"
      ]
     },
     "metadata": {},
     "output_type": "display_data"
    }
   ],
   "source": [
    "sns.barplot(data=completion_rate, x='Variation', y='client_id', palette='Set2')\n",
    "plt.title('Tasa de finalización por grupo de variación')\n",
    "plt.ylabel('Completion Rate (%)')\n",
    "plt.xlabel('Grupo')\n",
    "plt.ylim(0, 100)\n",
    "plt.show()"
   ]
  },
  {
   "cell_type": "markdown",
   "id": "fce444dc",
   "metadata": {},
   "source": [
    "Insights para Completion Rate\n",
    "\n",
    "\n",
    "El grupo Test presenta una tasa de finalización del 69.29%, ligeramente superior al 65.59% del grupo Control y al 67.51% del grupo no_experiment.\n",
    "\n",
    "La diferencia es pequeña (menos de 4 puntos porcentuales).\n",
    "\n",
    "Esta diferencia, aunque moderada en porcentaje, representa unos miles de clientes adicionales que completaron el proceso gracias al nuevo diseño.\n",
    "\n",
    "La mejora en el grupo Test frente a Control y no_experiment sugiere que la nueva interfaz puede tener un impacto positivo (moderado) en la experiencia y comportamiento de los clientes.\n",
    "\n",
    "Es importante considerar también otros KPIs para tener una visión más completa del impacto del cambio digital."
   ]
  },
  {
   "cell_type": "markdown",
   "id": "541b257d",
   "metadata": {},
   "source": [
    "### Tiempo invertido en cada paso del proceso."
   ]
  },
  {
   "cell_type": "code",
   "execution_count": 94,
   "id": "c4dd2b71",
   "metadata": {},
   "outputs": [
    {
     "name": "stdout",
     "output_type": "stream",
     "text": [
      "process_step      confirm       start     step_1     step_2      step_3\n",
      "Variation                                                              \n",
      "Control        128.664715  151.366026  42.998741  38.667857   92.944258\n",
      "Test           128.769658  147.140325  37.704369  48.131611   96.850972\n",
      "no_experiment  131.730524  141.097140  39.105145  47.282392  102.793825\n"
     ]
    }
   ],
   "source": [
    "df_web_sorted = df_web_v.sort_values(by=['client_id', 'visit_id', 'date_time'])\n",
    "\n",
    "df_web_sorted['time_diff'] = df_web_sorted.groupby(['client_id', 'visit_id'])['date_time'].diff().dt.total_seconds()\n",
    "\n",
    "avg_time_per_step = df_web_sorted.groupby(['Variation', 'process_step'])['time_diff'].mean().unstack()\n",
    "print(avg_time_per_step)"
   ]
  },
  {
   "cell_type": "code",
   "execution_count": 95,
   "id": "15a86c27",
   "metadata": {},
   "outputs": [
    {
     "data": {
      "image/png": "[encoded data removed]",
      "text/plain": [
       "<Figure size 640x480 with 1 Axes>"
      ]
     },
     "metadata": {},
     "output_type": "display_data"
    }
   ],
   "source": [
    "sns.histplot(df_web_sorted['time_diff'], bins=100, kde=False)\n",
    "plt.xlim(0, 3000)  # limitar a 3000 segundos (~50 minutos) para visualizar mejor\n",
    "plt.title(\"Distribución del tiempo entre pasos (time_diff)\")\n",
    "plt.xlabel(\"Tiempo entre pasos (segundos)\")\n",
    "plt.show()"
   ]
  },
  {
   "cell_type": "code",
   "execution_count": 98,
   "id": "80727844",
   "metadata": {},
   "outputs": [
    {
     "name": "stdout",
     "output_type": "stream",
     "text": [
      "                 count        mean         std   50%  min      max\n",
      "process_step                                                      \n",
      "confirm        92625.0  130.462543  276.523518  59.0  0.0  35680.0\n",
      "start          98714.0  144.268057  361.653644  49.0  0.0  40235.0\n",
      "step_1        161570.0   39.479879  102.166102  12.0  0.0   4150.0\n",
      "step_2        132364.0   45.802816   95.256210  23.0  0.0   2393.0\n",
      "step_3        111020.0   99.415078  130.804609  67.0  0.0   3635.0\n"
     ]
    }
   ],
   "source": [
    "resumen = df_web_sorted.groupby('process_step')['time_diff'] \\\n",
    "             .describe()[['count','mean','std','50%','min','max']]\n",
    "print(resumen)"
   ]
  },
  {
   "cell_type": "code",
   "execution_count": 99,
   "id": "3ae88e93",
   "metadata": {},
   "outputs": [
    {
     "name": "stderr",
     "output_type": "stream",
     "text": [
      "C:\\Users\\rocio\\AppData\\Local\\Temp\\ipykernel_23920\\3633923762.py:1: FutureWarning: \n",
      "\n",
      "Passing `palette` without assigning `hue` is deprecated and will be removed in v0.14.0. Assign the `x` variable to `hue` and set `legend=False` for the same effect.\n",
      "\n",
      "  sns.boxplot(data=df_web_sorted, x='process_step', y='time_diff', palette='Set3')\n"
     ]
    },
    {
     "data": {
      "image/png": "[encoded data removed]",
      "text/plain": [
       "<Figure size 640x480 with 1 Axes>"
      ]
     },
     "metadata": {},
     "output_type": "display_data"
    }
   ],
   "source": [
    "sns.boxplot(data=df_web_sorted, x='process_step', y='time_diff', palette='Set3')\n",
    "plt.show()"
   ]
  },
  {
   "cell_type": "code",
   "execution_count": 101,
   "id": "97448337",
   "metadata": {},
   "outputs": [],
   "source": [
    "grouped = df_web_sorted.groupby('process_step')['time_diff']\n",
    "\n",
    "# Moda\n",
    "mode = grouped.apply(lambda x: x.mode().iloc[0] if not x.mode().empty else None)\n",
    "\n",
    "# Varianza\n",
    "variance = grouped.var()\n",
    "\n",
    "# IQR\n",
    "q75 = grouped.quantile(0.75)\n",
    "q25 = grouped.quantile(0.25)\n",
    "iqr = q75 - q25\n",
    "\n",
    "# Rango\n",
    "rango = grouped.max() - grouped.min()\n",
    "\n",
    "# Juntamos todo en un DataFrame\n",
    "resumen = pd.DataFrame({\n",
    "    'mode': mode,\n",
    "    'variance': variance,\n",
    "    'IQR': iqr,\n",
    "    'rango': rango\n",
    "})"
   ]
  },
  {
   "cell_type": "code",
   "execution_count": 102,
   "id": "611416d0",
   "metadata": {},
   "outputs": [
    {
     "data": {
      "text/html": [
       "<div>\n",
       "<style scoped>\n",
       "    .dataframe tbody tr th:only-of-type {\n",
       "        vertical-align: middle;\n",
       "    }\n",
       "\n",
       "    .dataframe tbody tr th {\n",
       "        vertical-align: top;\n",
       "    }\n",
       "\n",
       "    .dataframe thead th {\n",
       "        text-align: right;\n",
       "    }\n",
       "</style>\n",
       "<table border=\"1\" class=\"dataframe\">\n",
       "  <thead>\n",
       "    <tr style=\"text-align: right;\">\n",
       "      <th></th>\n",
       "      <th>mode</th>\n",
       "      <th>variance</th>\n",
       "      <th>IQR</th>\n",
       "      <th>rango</th>\n",
       "    </tr>\n",
       "    <tr>\n",
       "      <th>process_step</th>\n",
       "      <th></th>\n",
       "      <th></th>\n",
       "      <th></th>\n",
       "      <th></th>\n",
       "    </tr>\n",
       "  </thead>\n",
       "  <tbody>\n",
       "    <tr>\n",
       "      <th>confirm</th>\n",
       "      <td>22.0</td>\n",
       "      <td>76465.255768</td>\n",
       "      <td>94.0</td>\n",
       "      <td>35680.0</td>\n",
       "    </tr>\n",
       "    <tr>\n",
       "      <th>start</th>\n",
       "      <td>0.0</td>\n",
       "      <td>130793.358422</td>\n",
       "      <td>126.0</td>\n",
       "      <td>40235.0</td>\n",
       "    </tr>\n",
       "    <tr>\n",
       "      <th>step_1</th>\n",
       "      <td>4.0</td>\n",
       "      <td>10437.912465</td>\n",
       "      <td>24.0</td>\n",
       "      <td>4150.0</td>\n",
       "    </tr>\n",
       "    <tr>\n",
       "      <th>step_2</th>\n",
       "      <td>7.0</td>\n",
       "      <td>9073.745454</td>\n",
       "      <td>34.0</td>\n",
       "      <td>2393.0</td>\n",
       "    </tr>\n",
       "    <tr>\n",
       "      <th>step_3</th>\n",
       "      <td>47.0</td>\n",
       "      <td>17109.845831</td>\n",
       "      <td>73.0</td>\n",
       "      <td>3635.0</td>\n",
       "    </tr>\n",
       "  </tbody>\n",
       "</table>\n",
       "</div>"
      ],
      "text/plain": [
       "              mode       variance    IQR    rango\n",
       "process_step                                     \n",
       "confirm       22.0   76465.255768   94.0  35680.0\n",
       "start          0.0  130793.358422  126.0  40235.0\n",
       "step_1         4.0   10437.912465   24.0   4150.0\n",
       "step_2         7.0    9073.745454   34.0   2393.0\n",
       "step_3        47.0   17109.845831   73.0   3635.0"
      ]
     },
     "execution_count": 102,
     "metadata": {},
     "output_type": "execute_result"
    }
   ],
   "source": [
    "resumen"
   ]
  },
  {
   "cell_type": "code",
   "execution_count": 104,
   "id": "b6fcaa23",
   "metadata": {},
   "outputs": [],
   "source": [
    "# Calcular Q1 y Q3\n",
    "Q1 = df_web_sorted['time_diff'].quantile(0.25)\n",
    "Q3 = df_web_sorted['time_diff'].quantile(0.75)\n",
    "IQR = Q3 - Q1\n",
    "\n",
    "# Definir el umbral superior para outliers\n",
    "upper_bound = Q3 + 1.5 * IQR\n",
    "\n",
    "# Filtrar el DataFrame sin outliers\n",
    "df_time_clean = df_web_sorted[df_web_sorted['time_diff'] <= upper_bound]"
   ]
  },
  {
   "cell_type": "code",
   "execution_count": 105,
   "id": "41fa2db9",
   "metadata": {},
   "outputs": [
    {
     "data": {
      "image/png": "[encoded data removed]",
      "text/plain": [
       "<Figure size 640x480 with 1 Axes>"
      ]
     },
     "metadata": {},
     "output_type": "display_data"
    }
   ],
   "source": [
    "sns.boxplot(data=df_time_clean, x='process_step', y='time_diff', hue='Variation', showfliers=False)\n",
    "plt.title('Distribución tiempo por paso sin outliers')\n",
    "plt.ylabel('Tiempo en segundos')\n",
    "plt.show()"
   ]
  },
  {
   "cell_type": "code",
   "execution_count": null,
   "id": "c4fe2240",
   "metadata": {},
   "outputs": [
    {
     "data": {
      "text/html": [
       "<div>\n",
       "<style scoped>\n",
       "    .dataframe tbody tr th:only-of-type {\n",
       "        vertical-align: middle;\n",
       "    }\n",
       "\n",
       "    .dataframe tbody tr th {\n",
       "        vertical-align: top;\n",
       "    }\n",
       "\n",
       "    .dataframe thead th {\n",
       "        text-align: right;\n",
       "    }\n",
       "</style>\n",
       "<table border=\"1\" class=\"dataframe\">\n",
       "  <thead>\n",
       "    <tr style=\"text-align: right;\">\n",
       "      <th></th>\n",
       "      <th></th>\n",
       "      <th>median</th>\n",
       "      <th>mode</th>\n",
       "      <th>IQR</th>\n",
       "    </tr>\n",
       "    <tr>\n",
       "      <th>Variation</th>\n",
       "      <th>process_step</th>\n",
       "      <th></th>\n",
       "      <th></th>\n",
       "      <th></th>\n",
       "    </tr>\n",
       "  </thead>\n",
       "  <tbody>\n",
       "    <tr>\n",
       "      <th rowspan=\"5\" valign=\"top\">Control</th>\n",
       "      <th>confirm</th>\n",
       "      <td>59.0</td>\n",
       "      <td>0.0</td>\n",
       "      <td>61.0</td>\n",
       "    </tr>\n",
       "    <tr>\n",
       "      <th>start</th>\n",
       "      <td>22.0</td>\n",
       "      <td>0.0</td>\n",
       "      <td>58.0</td>\n",
       "    </tr>\n",
       "    <tr>\n",
       "      <th>step_1</th>\n",
       "      <td>17.0</td>\n",
       "      <td>4.0</td>\n",
       "      <td>28.0</td>\n",
       "    </tr>\n",
       "    <tr>\n",
       "      <th>step_2</th>\n",
       "      <td>19.0</td>\n",
       "      <td>6.0</td>\n",
       "      <td>34.0</td>\n",
       "    </tr>\n",
       "    <tr>\n",
       "      <th>step_3</th>\n",
       "      <td>59.0</td>\n",
       "      <td>0.0</td>\n",
       "      <td>62.0</td>\n",
       "    </tr>\n",
       "    <tr>\n",
       "      <th rowspan=\"5\" valign=\"top\">Test</th>\n",
       "      <th>confirm</th>\n",
       "      <td>46.0</td>\n",
       "      <td>26.0</td>\n",
       "      <td>52.0</td>\n",
       "    </tr>\n",
       "    <tr>\n",
       "      <th>start</th>\n",
       "      <td>39.0</td>\n",
       "      <td>0.0</td>\n",
       "      <td>64.0</td>\n",
       "    </tr>\n",
       "    <tr>\n",
       "      <th>step_1</th>\n",
       "      <td>10.0</td>\n",
       "      <td>4.0</td>\n",
       "      <td>16.0</td>\n",
       "    </tr>\n",
       "    <tr>\n",
       "      <th>step_2</th>\n",
       "      <td>24.0</td>\n",
       "      <td>10.0</td>\n",
       "      <td>32.0</td>\n",
       "    </tr>\n",
       "    <tr>\n",
       "      <th>step_3</th>\n",
       "      <td>61.0</td>\n",
       "      <td>43.0</td>\n",
       "      <td>55.0</td>\n",
       "    </tr>\n",
       "    <tr>\n",
       "      <th rowspan=\"5\" valign=\"top\">no_experiment</th>\n",
       "      <th>confirm</th>\n",
       "      <td>46.0</td>\n",
       "      <td>22.0</td>\n",
       "      <td>51.0</td>\n",
       "    </tr>\n",
       "    <tr>\n",
       "      <th>start</th>\n",
       "      <td>35.0</td>\n",
       "      <td>0.0</td>\n",
       "      <td>67.0</td>\n",
       "    </tr>\n",
       "    <tr>\n",
       "      <th>step_1</th>\n",
       "      <td>10.0</td>\n",
       "      <td>4.0</td>\n",
       "      <td>16.0</td>\n",
       "    </tr>\n",
       "    <tr>\n",
       "      <th>step_2</th>\n",
       "      <td>23.0</td>\n",
       "      <td>10.0</td>\n",
       "      <td>30.0</td>\n",
       "    </tr>\n",
       "    <tr>\n",
       "      <th>step_3</th>\n",
       "      <td>62.0</td>\n",
       "      <td>45.0</td>\n",
       "      <td>58.0</td>\n",
       "    </tr>\n",
       "  </tbody>\n",
       "</table>\n",
       "</div>"
      ],
      "text/plain": [
       "                            median  mode   IQR\n",
       "Variation     process_step                    \n",
       "Control       confirm         59.0   0.0  61.0\n",
       "              start           22.0   0.0  58.0\n",
       "              step_1          17.0   4.0  28.0\n",
       "              step_2          19.0   6.0  34.0\n",
       "              step_3          59.0   0.0  62.0\n",
       "Test          confirm         46.0  26.0  52.0\n",
       "              start           39.0   0.0  64.0\n",
       "              step_1          10.0   4.0  16.0\n",
       "              step_2          24.0  10.0  32.0\n",
       "              step_3          61.0  43.0  55.0\n",
       "no_experiment confirm         46.0  22.0  51.0\n",
       "              start           35.0   0.0  67.0\n",
       "              step_1          10.0   4.0  16.0\n",
       "              step_2          23.0  10.0  30.0\n",
       "              step_3          62.0  45.0  58.0"
      ]
     },
     "execution_count": 110,
     "metadata": {},
     "output_type": "execute_result"
    }
   ],
   "source": [
    "q1 = df_time_clean.groupby(['Variation', 'process_step'])['time_diff'].quantile(0.25)\n",
    "q3 = df_time_clean.groupby(['Variation', 'process_step'])['time_diff'].quantile(0.75)\n",
    "iqr = q3 - q1\n",
    "kpis = pd.DataFrame({\n",
    "    'median': df_time_clean.groupby(['Variation', 'process_step'])['time_diff'].median(),\n",
    "    'mode': df_time_clean.groupby(['Variation', 'process_step'])['time_diff'].agg(lambda x: x.mode().iloc[0]),\n",
    "    'IQR': iqr\n",
    "})\n",
    "kpis"
   ]
  },
  {
   "cell_type": "markdown",
   "id": "bf4ee5d3",
   "metadata": {},
   "source": [
    "Interpretación general\n",
    "\n",
    "\n",
    "El diseño Test parece acelerar algunos pasos iniciales (start y step_1), pero puede que introduzca mayor tiempo en el step_2.\n",
    "\n",
    "La confirmación final parece más rápida en el grupo Test, lo cual es positivo para la experiencia de usuario.\n",
    "\n",
    "La variabilidad de tiempos (IQR) es bastante consistente entre los grupos, lo que indica que el comportamiento es homogéneo.\n",
    "\n",
    "La presencia de modas en 0 segundos en Control puede indicar que algunos usuarios \"saltan\" pasos o que hay datos de tiempo no tan precisos."
   ]
  },
  {
   "cell_type": "code",
   "execution_count": 41,
   "id": "0ea96246",
   "metadata": {},
   "outputs": [],
   "source": [
    "# df.to_csv('df_final.csv', index=False)"
   ]
  }
 ],
 "metadata": {
  "kernelspec": {
   "display_name": "base",
   "language": "python",
   "name": "python3"
  },
  "language_info": {
   "codemirror_mode": {
    "name": "ipython",
    "version": 3
   },
   "file_extension": ".py",
   "mimetype": "text/x-python",
   "name": "python",
   "nbconvert_exporter": "python",
   "pygments_lexer": "ipython3",
   "version": "3.12.7"
  }
 },
 "nbformat": 4,
 "nbformat_minor": 5
}
