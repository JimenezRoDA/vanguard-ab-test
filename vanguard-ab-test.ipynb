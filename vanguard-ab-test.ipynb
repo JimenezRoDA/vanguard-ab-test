{
 "cells": [
  {
   "cell_type": "code",
   "execution_count": 112,
   "id": "eb46bb8b",
   "metadata": {},
   "outputs": [],
   "source": [
    "import pandas as pd\n",
    "import matplotlib.pyplot as plt\n",
    "import seaborn as sns\n",
    "import numpy as np\n",
    "\n",
    "%matplotlib inline"
   ]
  },
  {
   "cell_type": "code",
   "execution_count": 113,
   "id": "1e713fe4",
   "metadata": {},
   "outputs": [],
   "source": [
    "df_final_demo = pd.read_csv(\"df_final_demo.txt\")\n",
    "df_exp_cli = pd.read_csv(\"df_final_experiment_clients.txt\")\n",
    "df_web_1 = pd.read_csv(\"df_final_web_data_pt_1.txt\")\n",
    "df_web_2 = pd.read_csv(\"df_final_web_data_pt_2.txt\")"
   ]
  },
  {
   "cell_type": "code",
   "execution_count": 114,
   "id": "01821e76",
   "metadata": {},
   "outputs": [
    {
     "data": {
      "text/html": [
       "<div>\n",
       "<style scoped>\n",
       "    .dataframe tbody tr th:only-of-type {\n",
       "        vertical-align: middle;\n",
       "    }\n",
       "\n",
       "    .dataframe tbody tr th {\n",
       "        vertical-align: top;\n",
       "    }\n",
       "\n",
       "    .dataframe thead th {\n",
       "        text-align: right;\n",
       "    }\n",
       "</style>\n",
       "<table border=\"1\" class=\"dataframe\">\n",
       "  <thead>\n",
       "    <tr style=\"text-align: right;\">\n",
       "      <th></th>\n",
       "      <th>client_id</th>\n",
       "      <th>clnt_tenure_yr</th>\n",
       "      <th>clnt_tenure_mnth</th>\n",
       "      <th>clnt_age</th>\n",
       "      <th>gendr</th>\n",
       "      <th>num_accts</th>\n",
       "      <th>bal</th>\n",
       "      <th>calls_6_mnth</th>\n",
       "      <th>logons_6_mnth</th>\n",
       "    </tr>\n",
       "  </thead>\n",
       "  <tbody>\n",
       "    <tr>\n",
       "      <th>0</th>\n",
       "      <td>836976</td>\n",
       "      <td>6.0</td>\n",
       "      <td>73.0</td>\n",
       "      <td>60.5</td>\n",
       "      <td>U</td>\n",
       "      <td>2.0</td>\n",
       "      <td>45105.30</td>\n",
       "      <td>6.0</td>\n",
       "      <td>9.0</td>\n",
       "    </tr>\n",
       "    <tr>\n",
       "      <th>1</th>\n",
       "      <td>2304905</td>\n",
       "      <td>7.0</td>\n",
       "      <td>94.0</td>\n",
       "      <td>58.0</td>\n",
       "      <td>U</td>\n",
       "      <td>2.0</td>\n",
       "      <td>110860.30</td>\n",
       "      <td>6.0</td>\n",
       "      <td>9.0</td>\n",
       "    </tr>\n",
       "    <tr>\n",
       "      <th>2</th>\n",
       "      <td>1439522</td>\n",
       "      <td>5.0</td>\n",
       "      <td>64.0</td>\n",
       "      <td>32.0</td>\n",
       "      <td>U</td>\n",
       "      <td>2.0</td>\n",
       "      <td>52467.79</td>\n",
       "      <td>6.0</td>\n",
       "      <td>9.0</td>\n",
       "    </tr>\n",
       "    <tr>\n",
       "      <th>3</th>\n",
       "      <td>1562045</td>\n",
       "      <td>16.0</td>\n",
       "      <td>198.0</td>\n",
       "      <td>49.0</td>\n",
       "      <td>M</td>\n",
       "      <td>2.0</td>\n",
       "      <td>67454.65</td>\n",
       "      <td>3.0</td>\n",
       "      <td>6.0</td>\n",
       "    </tr>\n",
       "    <tr>\n",
       "      <th>4</th>\n",
       "      <td>5126305</td>\n",
       "      <td>12.0</td>\n",
       "      <td>145.0</td>\n",
       "      <td>33.0</td>\n",
       "      <td>F</td>\n",
       "      <td>2.0</td>\n",
       "      <td>103671.75</td>\n",
       "      <td>0.0</td>\n",
       "      <td>3.0</td>\n",
       "    </tr>\n",
       "  </tbody>\n",
       "</table>\n",
       "</div>"
      ],
      "text/plain": [
       "   client_id  clnt_tenure_yr  clnt_tenure_mnth  clnt_age gendr  num_accts  \\\n",
       "0     836976             6.0              73.0      60.5     U        2.0   \n",
       "1    2304905             7.0              94.0      58.0     U        2.0   \n",
       "2    1439522             5.0              64.0      32.0     U        2.0   \n",
       "3    1562045            16.0             198.0      49.0     M        2.0   \n",
       "4    5126305            12.0             145.0      33.0     F        2.0   \n",
       "\n",
       "         bal  calls_6_mnth  logons_6_mnth  \n",
       "0   45105.30           6.0            9.0  \n",
       "1  110860.30           6.0            9.0  \n",
       "2   52467.79           6.0            9.0  \n",
       "3   67454.65           3.0            6.0  \n",
       "4  103671.75           0.0            3.0  "
      ]
     },
     "execution_count": 114,
     "metadata": {},
     "output_type": "execute_result"
    }
   ],
   "source": [
    "df_final_demo.head()"
   ]
  },
  {
   "cell_type": "code",
   "execution_count": 154,
   "id": "422f1fc9",
   "metadata": {},
   "outputs": [
    {
     "data": {
      "text/plain": [
       "(70609, 9)"
      ]
     },
     "execution_count": 154,
     "metadata": {},
     "output_type": "execute_result"
    }
   ],
   "source": [
    "df_final_demo.shape"
   ]
  },
  {
   "cell_type": "code",
   "execution_count": 115,
   "id": "2aac7fc7",
   "metadata": {},
   "outputs": [
    {
     "data": {
      "text/html": [
       "<div>\n",
       "<style scoped>\n",
       "    .dataframe tbody tr th:only-of-type {\n",
       "        vertical-align: middle;\n",
       "    }\n",
       "\n",
       "    .dataframe tbody tr th {\n",
       "        vertical-align: top;\n",
       "    }\n",
       "\n",
       "    .dataframe thead th {\n",
       "        text-align: right;\n",
       "    }\n",
       "</style>\n",
       "<table border=\"1\" class=\"dataframe\">\n",
       "  <thead>\n",
       "    <tr style=\"text-align: right;\">\n",
       "      <th></th>\n",
       "      <th>client_id</th>\n",
       "      <th>Variation</th>\n",
       "    </tr>\n",
       "  </thead>\n",
       "  <tbody>\n",
       "    <tr>\n",
       "      <th>0</th>\n",
       "      <td>9988021</td>\n",
       "      <td>Test</td>\n",
       "    </tr>\n",
       "    <tr>\n",
       "      <th>1</th>\n",
       "      <td>8320017</td>\n",
       "      <td>Test</td>\n",
       "    </tr>\n",
       "    <tr>\n",
       "      <th>2</th>\n",
       "      <td>4033851</td>\n",
       "      <td>Control</td>\n",
       "    </tr>\n",
       "    <tr>\n",
       "      <th>3</th>\n",
       "      <td>1982004</td>\n",
       "      <td>Test</td>\n",
       "    </tr>\n",
       "    <tr>\n",
       "      <th>4</th>\n",
       "      <td>9294070</td>\n",
       "      <td>Control</td>\n",
       "    </tr>\n",
       "  </tbody>\n",
       "</table>\n",
       "</div>"
      ],
      "text/plain": [
       "   client_id Variation\n",
       "0    9988021      Test\n",
       "1    8320017      Test\n",
       "2    4033851   Control\n",
       "3    1982004      Test\n",
       "4    9294070   Control"
      ]
     },
     "execution_count": 115,
     "metadata": {},
     "output_type": "execute_result"
    }
   ],
   "source": [
    "df_exp_cli.head()"
   ]
  },
  {
   "cell_type": "code",
   "execution_count": 157,
   "id": "c478f81f",
   "metadata": {},
   "outputs": [
    {
     "data": {
      "text/plain": [
       "client_id        0\n",
       "Variation    20109\n",
       "dtype: int64"
      ]
     },
     "execution_count": 157,
     "metadata": {},
     "output_type": "execute_result"
    }
   ],
   "source": [
    "df_exp_cli.isna().sum()"
   ]
  },
  {
   "cell_type": "code",
   "execution_count": 155,
   "id": "60dc4f20",
   "metadata": {},
   "outputs": [
    {
     "data": {
      "text/plain": [
       "(70609, 2)"
      ]
     },
     "execution_count": 155,
     "metadata": {},
     "output_type": "execute_result"
    }
   ],
   "source": [
    "df_exp_cli.shape"
   ]
  },
  {
   "cell_type": "code",
   "execution_count": 116,
   "id": "0617b19b",
   "metadata": {},
   "outputs": [
    {
     "data": {
      "text/html": [
       "<div>\n",
       "<style scoped>\n",
       "    .dataframe tbody tr th:only-of-type {\n",
       "        vertical-align: middle;\n",
       "    }\n",
       "\n",
       "    .dataframe tbody tr th {\n",
       "        vertical-align: top;\n",
       "    }\n",
       "\n",
       "    .dataframe thead th {\n",
       "        text-align: right;\n",
       "    }\n",
       "</style>\n",
       "<table border=\"1\" class=\"dataframe\">\n",
       "  <thead>\n",
       "    <tr style=\"text-align: right;\">\n",
       "      <th></th>\n",
       "      <th>client_id</th>\n",
       "      <th>visitor_id</th>\n",
       "      <th>visit_id</th>\n",
       "      <th>process_step</th>\n",
       "      <th>date_time</th>\n",
       "    </tr>\n",
       "  </thead>\n",
       "  <tbody>\n",
       "    <tr>\n",
       "      <th>0</th>\n",
       "      <td>9988021</td>\n",
       "      <td>580560515_7732621733</td>\n",
       "      <td>781255054_21935453173_531117</td>\n",
       "      <td>step_3</td>\n",
       "      <td>2017-04-17 15:27:07</td>\n",
       "    </tr>\n",
       "    <tr>\n",
       "      <th>1</th>\n",
       "      <td>9988021</td>\n",
       "      <td>580560515_7732621733</td>\n",
       "      <td>781255054_21935453173_531117</td>\n",
       "      <td>step_2</td>\n",
       "      <td>2017-04-17 15:26:51</td>\n",
       "    </tr>\n",
       "    <tr>\n",
       "      <th>2</th>\n",
       "      <td>9988021</td>\n",
       "      <td>580560515_7732621733</td>\n",
       "      <td>781255054_21935453173_531117</td>\n",
       "      <td>step_3</td>\n",
       "      <td>2017-04-17 15:19:22</td>\n",
       "    </tr>\n",
       "    <tr>\n",
       "      <th>3</th>\n",
       "      <td>9988021</td>\n",
       "      <td>580560515_7732621733</td>\n",
       "      <td>781255054_21935453173_531117</td>\n",
       "      <td>step_2</td>\n",
       "      <td>2017-04-17 15:19:13</td>\n",
       "    </tr>\n",
       "    <tr>\n",
       "      <th>4</th>\n",
       "      <td>9988021</td>\n",
       "      <td>580560515_7732621733</td>\n",
       "      <td>781255054_21935453173_531117</td>\n",
       "      <td>step_3</td>\n",
       "      <td>2017-04-17 15:18:04</td>\n",
       "    </tr>\n",
       "  </tbody>\n",
       "</table>\n",
       "</div>"
      ],
      "text/plain": [
       "   client_id            visitor_id                      visit_id process_step  \\\n",
       "0    9988021  580560515_7732621733  781255054_21935453173_531117       step_3   \n",
       "1    9988021  580560515_7732621733  781255054_21935453173_531117       step_2   \n",
       "2    9988021  580560515_7732621733  781255054_21935453173_531117       step_3   \n",
       "3    9988021  580560515_7732621733  781255054_21935453173_531117       step_2   \n",
       "4    9988021  580560515_7732621733  781255054_21935453173_531117       step_3   \n",
       "\n",
       "             date_time  \n",
       "0  2017-04-17 15:27:07  \n",
       "1  2017-04-17 15:26:51  \n",
       "2  2017-04-17 15:19:22  \n",
       "3  2017-04-17 15:19:13  \n",
       "4  2017-04-17 15:18:04  "
      ]
     },
     "execution_count": 116,
     "metadata": {},
     "output_type": "execute_result"
    }
   ],
   "source": [
    "df_web_1.head()"
   ]
  },
  {
   "cell_type": "code",
   "execution_count": 117,
   "id": "86645c15",
   "metadata": {},
   "outputs": [
    {
     "data": {
      "text/html": [
       "<div>\n",
       "<style scoped>\n",
       "    .dataframe tbody tr th:only-of-type {\n",
       "        vertical-align: middle;\n",
       "    }\n",
       "\n",
       "    .dataframe tbody tr th {\n",
       "        vertical-align: top;\n",
       "    }\n",
       "\n",
       "    .dataframe thead th {\n",
       "        text-align: right;\n",
       "    }\n",
       "</style>\n",
       "<table border=\"1\" class=\"dataframe\">\n",
       "  <thead>\n",
       "    <tr style=\"text-align: right;\">\n",
       "      <th></th>\n",
       "      <th>client_id</th>\n",
       "      <th>visitor_id</th>\n",
       "      <th>visit_id</th>\n",
       "      <th>process_step</th>\n",
       "      <th>date_time</th>\n",
       "    </tr>\n",
       "  </thead>\n",
       "  <tbody>\n",
       "    <tr>\n",
       "      <th>0</th>\n",
       "      <td>763412</td>\n",
       "      <td>601952081_10457207388</td>\n",
       "      <td>397475557_40440946728_419634</td>\n",
       "      <td>confirm</td>\n",
       "      <td>2017-06-06 08:56:00</td>\n",
       "    </tr>\n",
       "    <tr>\n",
       "      <th>1</th>\n",
       "      <td>6019349</td>\n",
       "      <td>442094451_91531546617</td>\n",
       "      <td>154620534_35331068705_522317</td>\n",
       "      <td>confirm</td>\n",
       "      <td>2017-06-01 11:59:27</td>\n",
       "    </tr>\n",
       "    <tr>\n",
       "      <th>2</th>\n",
       "      <td>6019349</td>\n",
       "      <td>442094451_91531546617</td>\n",
       "      <td>154620534_35331068705_522317</td>\n",
       "      <td>step_3</td>\n",
       "      <td>2017-06-01 11:58:48</td>\n",
       "    </tr>\n",
       "    <tr>\n",
       "      <th>3</th>\n",
       "      <td>6019349</td>\n",
       "      <td>442094451_91531546617</td>\n",
       "      <td>154620534_35331068705_522317</td>\n",
       "      <td>step_2</td>\n",
       "      <td>2017-06-01 11:58:08</td>\n",
       "    </tr>\n",
       "    <tr>\n",
       "      <th>4</th>\n",
       "      <td>6019349</td>\n",
       "      <td>442094451_91531546617</td>\n",
       "      <td>154620534_35331068705_522317</td>\n",
       "      <td>step_1</td>\n",
       "      <td>2017-06-01 11:57:58</td>\n",
       "    </tr>\n",
       "  </tbody>\n",
       "</table>\n",
       "</div>"
      ],
      "text/plain": [
       "   client_id             visitor_id                      visit_id  \\\n",
       "0     763412  601952081_10457207388  397475557_40440946728_419634   \n",
       "1    6019349  442094451_91531546617  154620534_35331068705_522317   \n",
       "2    6019349  442094451_91531546617  154620534_35331068705_522317   \n",
       "3    6019349  442094451_91531546617  154620534_35331068705_522317   \n",
       "4    6019349  442094451_91531546617  154620534_35331068705_522317   \n",
       "\n",
       "  process_step            date_time  \n",
       "0      confirm  2017-06-06 08:56:00  \n",
       "1      confirm  2017-06-01 11:59:27  \n",
       "2       step_3  2017-06-01 11:58:48  \n",
       "3       step_2  2017-06-01 11:58:08  \n",
       "4       step_1  2017-06-01 11:57:58  "
      ]
     },
     "execution_count": 117,
     "metadata": {},
     "output_type": "execute_result"
    }
   ],
   "source": [
    "df_web_2.head()"
   ]
  },
  {
   "cell_type": "code",
   "execution_count": 118,
   "id": "717b195d",
   "metadata": {},
   "outputs": [
    {
     "data": {
      "text/html": [
       "<div>\n",
       "<style scoped>\n",
       "    .dataframe tbody tr th:only-of-type {\n",
       "        vertical-align: middle;\n",
       "    }\n",
       "\n",
       "    .dataframe tbody tr th {\n",
       "        vertical-align: top;\n",
       "    }\n",
       "\n",
       "    .dataframe thead th {\n",
       "        text-align: right;\n",
       "    }\n",
       "</style>\n",
       "<table border=\"1\" class=\"dataframe\">\n",
       "  <thead>\n",
       "    <tr style=\"text-align: right;\">\n",
       "      <th></th>\n",
       "      <th>client_id</th>\n",
       "      <th>visitor_id</th>\n",
       "      <th>visit_id</th>\n",
       "      <th>process_step</th>\n",
       "      <th>date_time</th>\n",
       "    </tr>\n",
       "  </thead>\n",
       "  <tbody>\n",
       "    <tr>\n",
       "      <th>0</th>\n",
       "      <td>9988021</td>\n",
       "      <td>580560515_7732621733</td>\n",
       "      <td>781255054_21935453173_531117</td>\n",
       "      <td>step_3</td>\n",
       "      <td>2017-04-17 15:27:07</td>\n",
       "    </tr>\n",
       "    <tr>\n",
       "      <th>1</th>\n",
       "      <td>9988021</td>\n",
       "      <td>580560515_7732621733</td>\n",
       "      <td>781255054_21935453173_531117</td>\n",
       "      <td>step_2</td>\n",
       "      <td>2017-04-17 15:26:51</td>\n",
       "    </tr>\n",
       "    <tr>\n",
       "      <th>2</th>\n",
       "      <td>9988021</td>\n",
       "      <td>580560515_7732621733</td>\n",
       "      <td>781255054_21935453173_531117</td>\n",
       "      <td>step_3</td>\n",
       "      <td>2017-04-17 15:19:22</td>\n",
       "    </tr>\n",
       "    <tr>\n",
       "      <th>3</th>\n",
       "      <td>9988021</td>\n",
       "      <td>580560515_7732621733</td>\n",
       "      <td>781255054_21935453173_531117</td>\n",
       "      <td>step_2</td>\n",
       "      <td>2017-04-17 15:19:13</td>\n",
       "    </tr>\n",
       "    <tr>\n",
       "      <th>4</th>\n",
       "      <td>9988021</td>\n",
       "      <td>580560515_7732621733</td>\n",
       "      <td>781255054_21935453173_531117</td>\n",
       "      <td>step_3</td>\n",
       "      <td>2017-04-17 15:18:04</td>\n",
       "    </tr>\n",
       "  </tbody>\n",
       "</table>\n",
       "</div>"
      ],
      "text/plain": [
       "   client_id            visitor_id                      visit_id process_step  \\\n",
       "0    9988021  580560515_7732621733  781255054_21935453173_531117       step_3   \n",
       "1    9988021  580560515_7732621733  781255054_21935453173_531117       step_2   \n",
       "2    9988021  580560515_7732621733  781255054_21935453173_531117       step_3   \n",
       "3    9988021  580560515_7732621733  781255054_21935453173_531117       step_2   \n",
       "4    9988021  580560515_7732621733  781255054_21935453173_531117       step_3   \n",
       "\n",
       "             date_time  \n",
       "0  2017-04-17 15:27:07  \n",
       "1  2017-04-17 15:26:51  \n",
       "2  2017-04-17 15:19:22  \n",
       "3  2017-04-17 15:19:13  \n",
       "4  2017-04-17 15:18:04  "
      ]
     },
     "execution_count": 118,
     "metadata": {},
     "output_type": "execute_result"
    }
   ],
   "source": [
    "df_web = pd.concat([df_web_1, df_web_2], axis=0)\n",
    "df_web.head()"
   ]
  },
  {
   "cell_type": "code",
   "execution_count": null,
   "id": "891a4b1e",
   "metadata": {},
   "outputs": [],
   "source": [
    "df_web['date_time'] = pd.to_datetime(df_web['date_time'], errors='coerce')"
   ]
  },
  {
   "cell_type": "code",
   "execution_count": 119,
   "id": "9c19a41a",
   "metadata": {},
   "outputs": [
    {
     "data": {
      "text/html": [
       "<div>\n",
       "<style scoped>\n",
       "    .dataframe tbody tr th:only-of-type {\n",
       "        vertical-align: middle;\n",
       "    }\n",
       "\n",
       "    .dataframe tbody tr th {\n",
       "        vertical-align: top;\n",
       "    }\n",
       "\n",
       "    .dataframe thead th {\n",
       "        text-align: right;\n",
       "    }\n",
       "</style>\n",
       "<table border=\"1\" class=\"dataframe\">\n",
       "  <thead>\n",
       "    <tr style=\"text-align: right;\">\n",
       "      <th></th>\n",
       "      <th>client_id</th>\n",
       "      <th>clnt_tenure_yr</th>\n",
       "      <th>clnt_tenure_mnth</th>\n",
       "      <th>clnt_age</th>\n",
       "      <th>gendr</th>\n",
       "      <th>num_accts</th>\n",
       "      <th>bal</th>\n",
       "      <th>calls_6_mnth</th>\n",
       "      <th>logons_6_mnth</th>\n",
       "      <th>Variation</th>\n",
       "    </tr>\n",
       "  </thead>\n",
       "  <tbody>\n",
       "    <tr>\n",
       "      <th>0</th>\n",
       "      <td>169</td>\n",
       "      <td>21.0</td>\n",
       "      <td>262.0</td>\n",
       "      <td>47.5</td>\n",
       "      <td>M</td>\n",
       "      <td>2.0</td>\n",
       "      <td>501570.72</td>\n",
       "      <td>4.0</td>\n",
       "      <td>4.0</td>\n",
       "      <td>NaN</td>\n",
       "    </tr>\n",
       "    <tr>\n",
       "      <th>1</th>\n",
       "      <td>555</td>\n",
       "      <td>3.0</td>\n",
       "      <td>46.0</td>\n",
       "      <td>29.5</td>\n",
       "      <td>U</td>\n",
       "      <td>2.0</td>\n",
       "      <td>25454.66</td>\n",
       "      <td>2.0</td>\n",
       "      <td>6.0</td>\n",
       "      <td>Test</td>\n",
       "    </tr>\n",
       "    <tr>\n",
       "      <th>2</th>\n",
       "      <td>647</td>\n",
       "      <td>12.0</td>\n",
       "      <td>151.0</td>\n",
       "      <td>57.5</td>\n",
       "      <td>M</td>\n",
       "      <td>2.0</td>\n",
       "      <td>30525.80</td>\n",
       "      <td>0.0</td>\n",
       "      <td>4.0</td>\n",
       "      <td>Test</td>\n",
       "    </tr>\n",
       "    <tr>\n",
       "      <th>3</th>\n",
       "      <td>722</td>\n",
       "      <td>11.0</td>\n",
       "      <td>143.0</td>\n",
       "      <td>59.5</td>\n",
       "      <td>F</td>\n",
       "      <td>2.0</td>\n",
       "      <td>22466.17</td>\n",
       "      <td>1.0</td>\n",
       "      <td>1.0</td>\n",
       "      <td>NaN</td>\n",
       "    </tr>\n",
       "    <tr>\n",
       "      <th>4</th>\n",
       "      <td>934</td>\n",
       "      <td>9.0</td>\n",
       "      <td>109.0</td>\n",
       "      <td>51.0</td>\n",
       "      <td>F</td>\n",
       "      <td>2.0</td>\n",
       "      <td>32522.88</td>\n",
       "      <td>0.0</td>\n",
       "      <td>3.0</td>\n",
       "      <td>Test</td>\n",
       "    </tr>\n",
       "  </tbody>\n",
       "</table>\n",
       "</div>"
      ],
      "text/plain": [
       "   client_id  clnt_tenure_yr  clnt_tenure_mnth  clnt_age gendr  num_accts  \\\n",
       "0        169            21.0             262.0      47.5     M        2.0   \n",
       "1        555             3.0              46.0      29.5     U        2.0   \n",
       "2        647            12.0             151.0      57.5     M        2.0   \n",
       "3        722            11.0             143.0      59.5     F        2.0   \n",
       "4        934             9.0             109.0      51.0     F        2.0   \n",
       "\n",
       "         bal  calls_6_mnth  logons_6_mnth Variation  \n",
       "0  501570.72           4.0            4.0       NaN  \n",
       "1   25454.66           2.0            6.0      Test  \n",
       "2   30525.80           0.0            4.0      Test  \n",
       "3   22466.17           1.0            1.0       NaN  \n",
       "4   32522.88           0.0            3.0      Test  "
      ]
     },
     "execution_count": 119,
     "metadata": {},
     "output_type": "execute_result"
    }
   ],
   "source": [
    "df = pd.merge(df_final_demo, df_exp_cli, on ='client_id',how='outer')\n",
    "df.head()"
   ]
  },
  {
   "cell_type": "code",
   "execution_count": 120,
   "id": "1afabb05",
   "metadata": {},
   "outputs": [
    {
     "data": {
      "text/html": [
       "<div>\n",
       "<style scoped>\n",
       "    .dataframe tbody tr th:only-of-type {\n",
       "        vertical-align: middle;\n",
       "    }\n",
       "\n",
       "    .dataframe tbody tr th {\n",
       "        vertical-align: top;\n",
       "    }\n",
       "\n",
       "    .dataframe thead th {\n",
       "        text-align: right;\n",
       "    }\n",
       "</style>\n",
       "<table border=\"1\" class=\"dataframe\">\n",
       "  <thead>\n",
       "    <tr style=\"text-align: right;\">\n",
       "      <th></th>\n",
       "      <th>client_id</th>\n",
       "      <th>clnt_tenure_yr</th>\n",
       "      <th>clnt_tenure_mnth</th>\n",
       "      <th>clnt_age</th>\n",
       "      <th>gendr</th>\n",
       "      <th>num_accts</th>\n",
       "      <th>bal</th>\n",
       "      <th>calls_6_mnth</th>\n",
       "      <th>logons_6_mnth</th>\n",
       "      <th>Variation</th>\n",
       "    </tr>\n",
       "  </thead>\n",
       "  <tbody>\n",
       "    <tr>\n",
       "      <th>0</th>\n",
       "      <td>169</td>\n",
       "      <td>21.0</td>\n",
       "      <td>262.0</td>\n",
       "      <td>47.5</td>\n",
       "      <td>M</td>\n",
       "      <td>2.0</td>\n",
       "      <td>501570.72</td>\n",
       "      <td>4.0</td>\n",
       "      <td>4.0</td>\n",
       "      <td>NaN</td>\n",
       "    </tr>\n",
       "    <tr>\n",
       "      <th>1</th>\n",
       "      <td>555</td>\n",
       "      <td>3.0</td>\n",
       "      <td>46.0</td>\n",
       "      <td>29.5</td>\n",
       "      <td>U</td>\n",
       "      <td>2.0</td>\n",
       "      <td>25454.66</td>\n",
       "      <td>2.0</td>\n",
       "      <td>6.0</td>\n",
       "      <td>Test</td>\n",
       "    </tr>\n",
       "    <tr>\n",
       "      <th>2</th>\n",
       "      <td>647</td>\n",
       "      <td>12.0</td>\n",
       "      <td>151.0</td>\n",
       "      <td>57.5</td>\n",
       "      <td>M</td>\n",
       "      <td>2.0</td>\n",
       "      <td>30525.80</td>\n",
       "      <td>0.0</td>\n",
       "      <td>4.0</td>\n",
       "      <td>Test</td>\n",
       "    </tr>\n",
       "    <tr>\n",
       "      <th>3</th>\n",
       "      <td>722</td>\n",
       "      <td>11.0</td>\n",
       "      <td>143.0</td>\n",
       "      <td>59.5</td>\n",
       "      <td>F</td>\n",
       "      <td>2.0</td>\n",
       "      <td>22466.17</td>\n",
       "      <td>1.0</td>\n",
       "      <td>1.0</td>\n",
       "      <td>NaN</td>\n",
       "    </tr>\n",
       "    <tr>\n",
       "      <th>4</th>\n",
       "      <td>934</td>\n",
       "      <td>9.0</td>\n",
       "      <td>109.0</td>\n",
       "      <td>51.0</td>\n",
       "      <td>F</td>\n",
       "      <td>2.0</td>\n",
       "      <td>32522.88</td>\n",
       "      <td>0.0</td>\n",
       "      <td>3.0</td>\n",
       "      <td>Test</td>\n",
       "    </tr>\n",
       "  </tbody>\n",
       "</table>\n",
       "</div>"
      ],
      "text/plain": [
       "   client_id  clnt_tenure_yr  clnt_tenure_mnth  clnt_age gendr  num_accts  \\\n",
       "0        169            21.0             262.0      47.5     M        2.0   \n",
       "1        555             3.0              46.0      29.5     U        2.0   \n",
       "2        647            12.0             151.0      57.5     M        2.0   \n",
       "3        722            11.0             143.0      59.5     F        2.0   \n",
       "4        934             9.0             109.0      51.0     F        2.0   \n",
       "\n",
       "         bal  calls_6_mnth  logons_6_mnth Variation  \n",
       "0  501570.72           4.0            4.0       NaN  \n",
       "1   25454.66           2.0            6.0      Test  \n",
       "2   30525.80           0.0            4.0      Test  \n",
       "3   22466.17           1.0            1.0       NaN  \n",
       "4   32522.88           0.0            3.0      Test  "
      ]
     },
     "execution_count": 120,
     "metadata": {},
     "output_type": "execute_result"
    }
   ],
   "source": [
    "df.head()"
   ]
  },
  {
   "cell_type": "code",
   "execution_count": 121,
   "id": "9225cdf0",
   "metadata": {},
   "outputs": [
    {
     "data": {
      "text/plain": [
       "(70609, 10)"
      ]
     },
     "execution_count": 121,
     "metadata": {},
     "output_type": "execute_result"
    }
   ],
   "source": [
    "df.shape"
   ]
  },
  {
   "cell_type": "code",
   "execution_count": 122,
   "id": "c999692a",
   "metadata": {},
   "outputs": [
    {
     "data": {
      "text/plain": [
       "client_id             int64\n",
       "clnt_tenure_yr      float64\n",
       "clnt_tenure_mnth    float64\n",
       "clnt_age            float64\n",
       "gendr                object\n",
       "num_accts           float64\n",
       "bal                 float64\n",
       "calls_6_mnth        float64\n",
       "logons_6_mnth       float64\n",
       "Variation            object\n",
       "dtype: object"
      ]
     },
     "execution_count": 122,
     "metadata": {},
     "output_type": "execute_result"
    }
   ],
   "source": [
    "df.dtypes"
   ]
  },
  {
   "cell_type": "code",
   "execution_count": 123,
   "id": "167ee689",
   "metadata": {},
   "outputs": [
    {
     "data": {
      "text/plain": [
       "array([21.,  3., 12., 11.,  9.,  5.,  8.,  7., 48., 14., 19., 23., 13.,\n",
       "        4., 15.,  6., 16., 30., 27., 18., 20., 22., 17., 10., 24., 26.,\n",
       "       25., 28., 29., 43., 32., 31., 34., 36., 55., 33., 35.,  2., 51.,\n",
       "       37., 38., nan, 62., 40., 45., 39., 50., 52., 47., 44., 42., 41.,\n",
       "       46., 54., 49.])"
      ]
     },
     "execution_count": 123,
     "metadata": {},
     "output_type": "execute_result"
    }
   ],
   "source": [
    "df['clnt_tenure_yr'].unique()"
   ]
  },
  {
   "cell_type": "code",
   "execution_count": 124,
   "id": "c735a442",
   "metadata": {},
   "outputs": [
    {
     "data": {
      "text/plain": [
       "array([ 2.,  3.,  4.,  5.,  6.,  7.,  8.,  9., 10., 11., 12., 13., 14.,\n",
       "       15., 16., 17., 18., 19., 20., 21., 22., 23., 24., 25., 26., 27.,\n",
       "       28., 29., 30., 31., 32., 33., 34., 35., 36., 37., 38., 39., 40.,\n",
       "       41., 42., 43., 44., 45., 46., 47., 48., 49., 50., 51., 52., 54.,\n",
       "       55., 62., nan])"
      ]
     },
     "execution_count": 124,
     "metadata": {},
     "output_type": "execute_result"
    }
   ],
   "source": [
    "np.sort(df['clnt_tenure_yr'].unique())"
   ]
  },
  {
   "cell_type": "code",
   "execution_count": 125,
   "id": "b007fc4d",
   "metadata": {},
   "outputs": [],
   "source": [
    "df['clnt_tenure_yr'] = df['clnt_tenure_yr'].astype('Int64')"
   ]
  },
  {
   "cell_type": "code",
   "execution_count": 126,
   "id": "f15ee870",
   "metadata": {},
   "outputs": [
    {
     "data": {
      "text/plain": [
       "array([262.,  46., 151., 143., 109., 145.,  66.,  99.,  85., 576., 177.,\n",
       "        60., 150., 139., 229., 280., 260., 110., 157.,  98.,  63., 179.,\n",
       "       231., 142.,  58., 117., 116., 189., 190.,  75.,  94., 172., 199.,\n",
       "       154.,  86.,  77., 253., 361.,  57., 173.,  92., 329.,  72.,  81.,\n",
       "       149., 155.,  89., 195., 141., 106., 252., 218., 364., 140., 241.,\n",
       "       257., 226., 269., 170., 164.,  78., 108.,  56., 105.,  88., 211.,\n",
       "       205.,  73., 194.,  69., 171., 126.,  71.,  83., 121., 299., 156.,\n",
       "       285., 191., 321., 200.,  55.,  76., 242., 281., 294., 224., 166.,\n",
       "        70., 304.,  65., 169., 264., 230., 222., 160., 192.,  74.,  84.,\n",
       "        82., 168., 124., 119., 342., 219., 163., 144., 193., 131., 118.,\n",
       "       158.,  87., 186., 107., 196.,  91., 277., 125., 122., 259., 178.,\n",
       "       123., 310., 181., 232., 352., 214., 114., 250., 101.,  59., 345.,\n",
       "       282.,  80., 129.,  68., 184., 174., 268., 246., 176., 183.,  95.,\n",
       "        48., 255., 215., 100., 298., 187., 355., 318.,  90., 209., 245.,\n",
       "       137., 248., 284., 274., 228., 247., 359., 339.,  50.,  64., 254.,\n",
       "       130., 138., 276.,  44., 136., 271.,  54., 133.,  62., 319., 290.,\n",
       "        93., 216., 152., 289., 261., 362., 113., 103., 212., 206.,  67.,\n",
       "       516., 322., 391., 202., 279., 331., 313., 337., 182., 343.,  79.,\n",
       "       272., 295., 369., 115., 288., 238., 161., 112., 373., 371., 134.,\n",
       "       225., 127., 148., 201., 147., 102., 165., 220., 128., 330., 132.,\n",
       "       414., 296., 349., 185., 162., 273., 408.,  37., 258., 120.,  97.,\n",
       "       188., 243.,  53., 301., 308., 286., 370., 317., 315.,  47., 328.,\n",
       "       300., 197., 283., 111., 208., 167., 135., 346., 217., 180., 239.,\n",
       "       204., 338., 153., 305.,  61., 249., 367., 442., 667., 263., 104.,\n",
       "       267., 210., 159., 348., 320., 354.,  49., 198., 397., 234., 428.,\n",
       "       287.,  96., 292., 251., 336., 291., 406., 334., 223., 347., 275.,\n",
       "        52., 411., 256., 326., 396., 270., 325., 236., 175., 221., 203.,\n",
       "       213., 418.,  34., 312., 613., 311., 344., 240., 146.,  39., 233.,\n",
       "       227., 358.,  45., 266., 392., 207., 265., 404., 237.,  36.,  38.,\n",
       "        41., 375., 306., 297., 335., 314., 429., 432., 278., 368., 327.,\n",
       "       453., 385.,  43., 293., 340., 427., 462.,  nan, 447., 749.,  40.,\n",
       "       394., 387., 316.,  35., 376., 422., 407., 360., 302., 386., 409.,\n",
       "       341., 384., 390., 382., 332., 235., 395., 309., 379., 365., 324.,\n",
       "       323., 381., 484., 419., 372., 303., 439., 401., 410., 403., 464.,\n",
       "        51., 550., 402., 420., 244., 398., 473.,  42., 380., 430., 353.,\n",
       "       351., 413., 357., 421., 431., 436., 378., 416., 307., 377., 363.,\n",
       "       423., 425., 389., 350., 610., 383., 445., 624.,  33., 571., 535.,\n",
       "       479., 463., 393., 356., 333., 482., 388., 366., 417., 460., 454.,\n",
       "       441., 603., 426., 480., 433., 424., 504., 668., 400., 459., 512.,\n",
       "       507., 492., 399., 451., 581., 415., 461., 614., 532., 444., 669.,\n",
       "       468., 526., 434., 374., 448., 511., 602., 465., 466., 483., 561.,\n",
       "       412., 457., 475., 446., 449., 564., 509., 655., 485., 569., 450.,\n",
       "       443., 562., 455., 563., 593., 554., 661., 608., 405., 585., 481.,\n",
       "       596., 472., 456., 469., 440., 589., 631., 586., 612., 539.])"
      ]
     },
     "execution_count": 126,
     "metadata": {},
     "output_type": "execute_result"
    }
   ],
   "source": [
    "df['clnt_tenure_mnth'].unique()"
   ]
  },
  {
   "cell_type": "code",
   "execution_count": 127,
   "id": "efc81f44",
   "metadata": {},
   "outputs": [],
   "source": [
    "df['clnt_tenure_mnth'] = df['clnt_tenure_mnth'].astype('Int64')"
   ]
  },
  {
   "cell_type": "code",
   "execution_count": 128,
   "id": "6915bdc3",
   "metadata": {},
   "outputs": [
    {
     "data": {
      "text/plain": [
       "array([47.5, 29.5, 57.5, 59.5, 51. , 36. , 48. , 22. , 54.5, 28.5, 42. ,\n",
       "       46. , 45. , 58.5, 51.5, 55. , 43. , 62.5, 46.5, 37.5, 26.5, 63.5,\n",
       "       56. , 25. , 52. , 63. , 30. , 70.5, 48.5, 38.5, 58. , 40. , 65.5,\n",
       "       64.5, 50.5, 40.5, 29. , 76. , 25.5, 67. , 35.5, 53. , 61.5, 41.5,\n",
       "       33. , 44. , 50. , 30.5, 55.5, 34. , 27. , 22.5, 38. , 36.5, 82. ,\n",
       "       26. , 74. , 23. , 31.5, 60. , 53.5, 28. , 37. , 39. , 27.5, 77.5,\n",
       "       52.5, 19.5, 62. , 34.5, 69. , 54. , 45.5, 65. , 21. , 20. , 60.5,\n",
       "       74.5, 68. , 61. , 41. , 43.5, 75.5, 49.5, 32. , 67.5, 19. , 49. ,\n",
       "       23.5, 33.5, 24. , 76.5, 71. , 59. , 15.5, 69.5, 56.5, 66. , 32.5,\n",
       "       42.5, 57. , 47. , 81.5, 31. , 44.5, 71.5, 70. , 24.5, 75. , 77. ,\n",
       "       81. , 14.5, 86.5, 73. , 39.5, 73.5, 79.5, 21.5, 85. , 35. , 80. ,\n",
       "       72.5, 78. , 18.5, 64. , 68.5, 66.5, 84. , 72. , 20.5, 83. , 91. ,\n",
       "       83.5, 16.5, 18. , 95.5, 82.5, 16. , 17. , 17.5, 80.5, 84.5, 78.5,\n",
       "       92. , 79. , 89. ,  nan, 15. , 90. , 86. , 87.5, 93.5, 88. , 85.5,\n",
       "       88.5, 87. , 94. , 90.5, 92.5, 89.5, 96. , 93. , 14. , 91.5, 13.5,\n",
       "       94.5])"
      ]
     },
     "execution_count": 128,
     "metadata": {},
     "output_type": "execute_result"
    }
   ],
   "source": [
    "df['clnt_age'].unique()"
   ]
  },
  {
   "cell_type": "code",
   "execution_count": 129,
   "id": "8338cc4d",
   "metadata": {},
   "outputs": [
    {
     "data": {
      "text/plain": [
       "array([ 2.,  3.,  5.,  4.,  6.,  8., nan,  7.,  1.])"
      ]
     },
     "execution_count": 129,
     "metadata": {},
     "output_type": "execute_result"
    }
   ],
   "source": [
    "df['num_accts'].unique()"
   ]
  },
  {
   "cell_type": "code",
   "execution_count": 130,
   "id": "b03dc844",
   "metadata": {},
   "outputs": [],
   "source": [
    "df['num_accts'] = df['num_accts'].astype('Int64')"
   ]
  },
  {
   "cell_type": "code",
   "execution_count": 131,
   "id": "3f6f281f",
   "metadata": {},
   "outputs": [
    {
     "data": {
      "text/plain": [
       "array([ 4.,  2.,  0.,  1.,  6.,  5.,  3.,  7., nan])"
      ]
     },
     "execution_count": 131,
     "metadata": {},
     "output_type": "execute_result"
    }
   ],
   "source": [
    "df['calls_6_mnth'].unique()"
   ]
  },
  {
   "cell_type": "code",
   "execution_count": 132,
   "id": "85f4e9eb",
   "metadata": {},
   "outputs": [],
   "source": [
    "df['calls_6_mnth'] = df['calls_6_mnth'].astype('Int64')"
   ]
  },
  {
   "cell_type": "code",
   "execution_count": 133,
   "id": "c4ceb876",
   "metadata": {},
   "outputs": [
    {
     "data": {
      "text/plain": [
       "array([ 4.,  6.,  1.,  3.,  9.,  5.,  8.,  7.,  2., nan])"
      ]
     },
     "execution_count": 133,
     "metadata": {},
     "output_type": "execute_result"
    }
   ],
   "source": [
    "df['logons_6_mnth'].unique()"
   ]
  },
  {
   "cell_type": "code",
   "execution_count": 134,
   "id": "3c63c7ca",
   "metadata": {},
   "outputs": [],
   "source": [
    "df['logons_6_mnth'] = df['logons_6_mnth'].astype('Int64')"
   ]
  },
  {
   "cell_type": "code",
   "execution_count": 135,
   "id": "f7375d0a",
   "metadata": {},
   "outputs": [],
   "source": [
    "df.columns = df.columns.str.lower()"
   ]
  },
  {
   "cell_type": "code",
   "execution_count": 136,
   "id": "b7433f0d",
   "metadata": {},
   "outputs": [
    {
     "data": {
      "text/plain": [
       "array(['M', 'U', 'F', nan, 'X'], dtype=object)"
      ]
     },
     "execution_count": 136,
     "metadata": {},
     "output_type": "execute_result"
    }
   ],
   "source": [
    "df['gendr'].unique()"
   ]
  },
  {
   "cell_type": "code",
   "execution_count": 137,
   "id": "8007ca12",
   "metadata": {},
   "outputs": [
    {
     "data": {
      "text/plain": [
       "0"
      ]
     },
     "execution_count": 137,
     "metadata": {},
     "output_type": "execute_result"
    }
   ],
   "source": [
    "df.duplicated().sum()"
   ]
  },
  {
   "cell_type": "code",
   "execution_count": 138,
   "id": "f176b293",
   "metadata": {},
   "outputs": [],
   "source": [
    "df['gendr'] = df['gendr'].fillna('U')"
   ]
  },
  {
   "cell_type": "code",
   "execution_count": 139,
   "id": "d972f7a1",
   "metadata": {},
   "outputs": [],
   "source": [
    "df['variation'] = df['variation'].fillna('no_experiment')"
   ]
  },
  {
   "cell_type": "code",
   "execution_count": 150,
   "id": "243b36a7",
   "metadata": {},
   "outputs": [
    {
     "data": {
      "text/plain": [
       "client_id           0\n",
       "clnt_tenure_yr      0\n",
       "clnt_tenure_mnth    0\n",
       "clnt_age            0\n",
       "gendr               0\n",
       "num_accts           0\n",
       "bal                 0\n",
       "calls_6_mnth        0\n",
       "logons_6_mnth       0\n",
       "variation           0\n",
       "dtype: int64"
      ]
     },
     "execution_count": 150,
     "metadata": {},
     "output_type": "execute_result"
    }
   ],
   "source": [
    "df.isnull().sum()"
   ]
  },
  {
   "cell_type": "code",
   "execution_count": 149,
   "id": "f202ef72",
   "metadata": {},
   "outputs": [],
   "source": [
    "df['clnt_age'] = df['clnt_age'].fillna(df['clnt_age'].mean())"
   ]
  },
  {
   "cell_type": "code",
   "execution_count": 147,
   "id": "555c2c86",
   "metadata": {},
   "outputs": [],
   "source": [
    "df.dropna(subset=['num_accts'], inplace=True)"
   ]
  },
  {
   "cell_type": "code",
   "execution_count": 165,
   "id": "21cc9ad5",
   "metadata": {},
   "outputs": [
    {
     "data": {
      "text/plain": [
       "variation\n",
       "Test             26961\n",
       "Control          23527\n",
       "no_experiment    20107\n",
       "Name: count, dtype: int64"
      ]
     },
     "execution_count": 165,
     "metadata": {},
     "output_type": "execute_result"
    }
   ],
   "source": [
    "frequency_table"
   ]
  },
  {
   "cell_type": "code",
   "execution_count": 166,
   "id": "9c59236c",
   "metadata": {},
   "outputs": [],
   "source": [
    "frequency_table = df['variation'].value_counts()\n",
    "frequency_table = frequency_table.loc[['Test', 'Control']]"
   ]
  },
  {
   "cell_type": "code",
   "execution_count": 167,
   "id": "71b5a6e0",
   "metadata": {},
   "outputs": [
    {
     "data": {
      "image/png": "[encoded data removed]",
      "text/plain": [
       "<Figure size 640x480 with 1 Axes>"
      ]
     },
     "metadata": {},
     "output_type": "display_data"
    }
   ],
   "source": [
    "frequency_table.plot.pie(autopct='%1.1f%%', startangle=90, colors=sns.color_palette(\"Set3\"))\n",
    "plt.show()"
   ]
  },
  {
   "cell_type": "code",
   "execution_count": 168,
   "id": "932bab0c",
   "metadata": {},
   "outputs": [
    {
     "name": "stderr",
     "output_type": "stream",
     "text": [
      "C:\\Users\\rocio\\AppData\\Local\\Temp\\ipykernel_22036\\1961423030.py:1: FutureWarning: \n",
      "\n",
      "Passing `palette` without assigning `hue` is deprecated and will be removed in v0.14.0. Assign the `x` variable to `hue` and set `legend=False` for the same effect.\n",
      "\n",
      "  sns.barplot(x=frequency_table.index, y=frequency_table.values, palette=\"Set3\")\n"
     ]
    },
    {
     "data": {
      "image/png": "[encoded data removed]",
      "text/plain": [
       "<Figure size 640x480 with 1 Axes>"
      ]
     },
     "metadata": {},
     "output_type": "display_data"
    }
   ],
   "source": [
    "sns.barplot(x=frequency_table.index, y=frequency_table.values, palette=\"Set3\")\n",
    "plt.show()"
   ]
  },
  {
   "cell_type": "code",
   "execution_count": null,
   "id": "0ea96246",
   "metadata": {},
   "outputs": [],
   "source": [
    "# df.to_csv('df_final.csv', index=False)"
   ]
  }
 ],
 "metadata": {
  "kernelspec": {
   "display_name": "base",
   "language": "python",
   "name": "python3"
  },
  "language_info": {
   "codemirror_mode": {
    "name": "ipython",
    "version": 3
   },
   "file_extension": ".py",
   "mimetype": "text/x-python",
   "name": "python",
   "nbconvert_exporter": "python",
   "pygments_lexer": "ipython3",
   "version": "3.12.7"
  }
 },
 "nbformat": 4,
 "nbformat_minor": 5
}
